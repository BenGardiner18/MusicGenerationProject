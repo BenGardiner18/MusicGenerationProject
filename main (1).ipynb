{
  "cells": [
    {
      "cell_type": "code",
      "execution_count": 1,
      "metadata": {
        "id": "jJhZN_lrAssf"
      },
      "outputs": [
        {
          "name": "stderr",
          "output_type": "stream",
          "text": [
            "2023-04-25 15:30:56.813419: I tensorflow/core/platform/cpu_feature_guard.cc:193] This TensorFlow binary is optimized with oneAPI Deep Neural Network Library (oneDNN) to use the following CPU instructions in performance-critical operations:  SSE4.1 SSE4.2\n",
            "To enable them in other operations, rebuild TensorFlow with the appropriate compiler flags.\n"
          ]
        }
      ],
      "source": [
        "import os\n",
        "import numpy as np\n",
        "import pandas as pd\n",
        "import matplotlib.pyplot as plt\n",
        "import tensorflow as tf\n",
        "import warnings\n",
        "# import sklearn\n",
        "import pretty_midi\n",
        "from tqdm import tqdm\n",
        "import random \n",
        "import re\n",
        "import collections \n",
        "import pathlib \n",
        "import glob \n",
        "warnings.simplefilter(\"ignore\", UserWarning)"
      ]
    },
    {
      "cell_type": "markdown",
      "metadata": {
        "id": "V6TEAPSxfG2B"
      },
      "source": [
        "# Getting data \n",
        "\n",
        "The Maestro dataset is a collection of over 200 hours of classical piano performances in MIDI and audio formats, spanning a wide range of musical styles and composers. It includes annotations such as tempo, dynamics, and pedal usage, and is commonly used for machine learning, music information retrieval, and computer music research. It can be downloaded for non-commercial use from the Magenta project website.\n",
        "\n",
        "https://magenta.tensorflow.org/datasets/maestro"
      ]
    },
    {
      "cell_type": "code",
      "execution_count": 2,
      "metadata": {
        "colab": {
          "base_uri": "https://localhost:8080/"
        },
        "id": "-SsxyF9pfG2C",
        "outputId": "73484121-ab56-41f7-d201-74c62659619e"
      },
      "outputs": [
        {
          "name": "stdout",
          "output_type": "stream",
          "text": [
            "Number of files: 1282\n"
          ]
        }
      ],
      "source": [
        "data_dir = pathlib.Path('data/maestro-v2.0.0')\n",
        "if not data_dir.exists():\n",
        "  tf.keras.utils.get_file(\n",
        "      'maestro-v2.0.0-midi.zip',\n",
        "      origin='https://storage.googleapis.com/magentadata/datasets/maestro/v2.0.0/maestro-v2.0.0-midi.zip',\n",
        "      extract=True,\n",
        "      cache_dir='.', cache_subdir='data',\n",
        "  )\n",
        "\n",
        "midi_paths = glob.glob(str(data_dir/'**/*.mid*'))\n",
        "print('Number of files:', len(midi_paths))"
      ]
    },
    {
      "cell_type": "code",
      "execution_count": 3,
      "metadata": {
        "id": "k4fHa7d3Br45"
      },
      "outputs": [],
      "source": [
        "sample_file = midi_paths[0]\n",
        "sample_object = pretty_midi.PrettyMIDI(sample_file)"
      ]
    },
    {
      "cell_type": "markdown",
      "metadata": {
        "id": "27FaWoX9fG2D"
      },
      "source": [
        "# Preprocessing our data\n",
        "\n",
        "Right now our data is a bunch of MIDI files stored in our directory, but we need to transform these files into something the neural network can consume. We will preprocess the data with the following steps...\n",
        "\n",
        "1. collect the file paths for each MIDI file \n",
        "2. load the MIDI file and extract the notes \n",
        "3. vectorizes the notes into arrays that the NN can understand \n",
        "4. turn the list of arrays for each song into a uniform input and output sequences for the LSTM model to predict "
      ]
    },
    {
      "cell_type": "code",
      "execution_count": 4,
      "metadata": {
        "colab": {
          "base_uri": "https://localhost:8080/",
          "height": 423
        },
        "id": "9a-xhn1o74mR",
        "outputId": "2a104bf1-cce8-4bd4-ba44-b39551ba451a"
      },
      "outputs": [
        {
          "data": {
            "text/html": [
              "<div>\n",
              "<style scoped>\n",
              "    .dataframe tbody tr th:only-of-type {\n",
              "        vertical-align: middle;\n",
              "    }\n",
              "\n",
              "    .dataframe tbody tr th {\n",
              "        vertical-align: top;\n",
              "    }\n",
              "\n",
              "    .dataframe thead th {\n",
              "        text-align: right;\n",
              "    }\n",
              "</style>\n",
              "<table border=\"1\" class=\"dataframe\">\n",
              "  <thead>\n",
              "    <tr style=\"text-align: right;\">\n",
              "      <th></th>\n",
              "      <th>pitch</th>\n",
              "      <th>note_name</th>\n",
              "      <th>start</th>\n",
              "      <th>end</th>\n",
              "      <th>step</th>\n",
              "      <th>duration</th>\n",
              "    </tr>\n",
              "  </thead>\n",
              "  <tbody>\n",
              "    <tr>\n",
              "      <th>0</th>\n",
              "      <td>77</td>\n",
              "      <td>F5</td>\n",
              "      <td>0.994792</td>\n",
              "      <td>1.087240</td>\n",
              "      <td>0.000000</td>\n",
              "      <td>0.092448</td>\n",
              "    </tr>\n",
              "    <tr>\n",
              "      <th>1</th>\n",
              "      <td>49</td>\n",
              "      <td>C#3</td>\n",
              "      <td>0.998698</td>\n",
              "      <td>1.401042</td>\n",
              "      <td>0.003906</td>\n",
              "      <td>0.402344</td>\n",
              "    </tr>\n",
              "    <tr>\n",
              "      <th>2</th>\n",
              "      <td>73</td>\n",
              "      <td>C#5</td>\n",
              "      <td>1.108073</td>\n",
              "      <td>1.173177</td>\n",
              "      <td>0.109375</td>\n",
              "      <td>0.065104</td>\n",
              "    </tr>\n",
              "    <tr>\n",
              "      <th>3</th>\n",
              "      <td>68</td>\n",
              "      <td>G#4</td>\n",
              "      <td>1.207031</td>\n",
              "      <td>1.268229</td>\n",
              "      <td>0.098958</td>\n",
              "      <td>0.061198</td>\n",
              "    </tr>\n",
              "    <tr>\n",
              "      <th>4</th>\n",
              "      <td>73</td>\n",
              "      <td>C#5</td>\n",
              "      <td>1.315104</td>\n",
              "      <td>1.375000</td>\n",
              "      <td>0.108073</td>\n",
              "      <td>0.059896</td>\n",
              "    </tr>\n",
              "    <tr>\n",
              "      <th>...</th>\n",
              "      <td>...</td>\n",
              "      <td>...</td>\n",
              "      <td>...</td>\n",
              "      <td>...</td>\n",
              "      <td>...</td>\n",
              "      <td>...</td>\n",
              "    </tr>\n",
              "    <tr>\n",
              "      <th>2230</th>\n",
              "      <td>37</td>\n",
              "      <td>C#2</td>\n",
              "      <td>208.315104</td>\n",
              "      <td>211.058594</td>\n",
              "      <td>0.707031</td>\n",
              "      <td>2.743490</td>\n",
              "    </tr>\n",
              "    <tr>\n",
              "      <th>2231</th>\n",
              "      <td>61</td>\n",
              "      <td>C#4</td>\n",
              "      <td>208.397135</td>\n",
              "      <td>211.037760</td>\n",
              "      <td>0.082031</td>\n",
              "      <td>2.640625</td>\n",
              "    </tr>\n",
              "    <tr>\n",
              "      <th>2232</th>\n",
              "      <td>65</td>\n",
              "      <td>F4</td>\n",
              "      <td>208.453125</td>\n",
              "      <td>211.044271</td>\n",
              "      <td>0.055990</td>\n",
              "      <td>2.591146</td>\n",
              "    </tr>\n",
              "    <tr>\n",
              "      <th>2233</th>\n",
              "      <td>68</td>\n",
              "      <td>G#4</td>\n",
              "      <td>208.510417</td>\n",
              "      <td>211.057292</td>\n",
              "      <td>0.057292</td>\n",
              "      <td>2.546875</td>\n",
              "    </tr>\n",
              "    <tr>\n",
              "      <th>2234</th>\n",
              "      <td>73</td>\n",
              "      <td>C#5</td>\n",
              "      <td>208.583333</td>\n",
              "      <td>211.049479</td>\n",
              "      <td>0.072917</td>\n",
              "      <td>2.466146</td>\n",
              "    </tr>\n",
              "  </tbody>\n",
              "</table>\n",
              "<p>2235 rows × 6 columns</p>\n",
              "</div>"
            ],
            "text/plain": [
              "      pitch note_name       start         end      step  duration\n",
              "0        77        F5    0.994792    1.087240  0.000000  0.092448\n",
              "1        49       C#3    0.998698    1.401042  0.003906  0.402344\n",
              "2        73       C#5    1.108073    1.173177  0.109375  0.065104\n",
              "3        68       G#4    1.207031    1.268229  0.098958  0.061198\n",
              "4        73       C#5    1.315104    1.375000  0.108073  0.059896\n",
              "...     ...       ...         ...         ...       ...       ...\n",
              "2230     37       C#2  208.315104  211.058594  0.707031  2.743490\n",
              "2231     61       C#4  208.397135  211.037760  0.082031  2.640625\n",
              "2232     65        F4  208.453125  211.044271  0.055990  2.591146\n",
              "2233     68       G#4  208.510417  211.057292  0.057292  2.546875\n",
              "2234     73       C#5  208.583333  211.049479  0.072917  2.466146\n",
              "\n",
              "[2235 rows x 6 columns]"
            ]
          },
          "execution_count": 4,
          "metadata": {},
          "output_type": "execute_result"
        }
      ],
      "source": [
        "\n",
        "def midi_to_notes(midi_object):\n",
        "  # source - https://www.tensorflow.org/tutorials/audio/music_generation\n",
        "  instrument = midi_object.instruments[0]\n",
        "  notes = collections.defaultdict(list)\n",
        "\n",
        "  # Sort the notes by start time\n",
        "  sorted_notes = sorted(instrument.notes, key=lambda note: note.start)\n",
        "  prev_start = sorted_notes[0].start\n",
        "  \n",
        "  for note in sorted_notes:\n",
        "    start = note.start\n",
        "    end = note.end\n",
        "    pitch = note.pitch\n",
        "    notes['pitch'].append(pitch)\n",
        "    notes['note_name'].append(pretty_midi.note_number_to_name(pitch)) # e.g 50 -> D3\n",
        "    notes['start'].append(start)\n",
        "    notes['end'].append(end)\n",
        "    notes['step'].append(start - prev_start)\n",
        "    notes['duration'].append(end - start)\n",
        "    prev_start = start\n",
        "\n",
        "  return pd.DataFrame({name: np.array(value) for name, value in notes.items()})\n",
        "\n",
        "midi_to_notes(sample_object)\n"
      ]
    },
    {
      "cell_type": "code",
      "execution_count": 5,
      "metadata": {
        "colab": {
          "base_uri": "https://localhost:8080/",
          "height": 385
        },
        "id": "aeXnwLYl74mR",
        "outputId": "4e1fd585-b3fc-4b30-f2e3-2e0b516c068b"
      },
      "outputs": [
        {
          "data": {
            "image/png": "[encoded data removed]",
            "text/plain": [
              "<Figure size 2000x400 with 1 Axes>"
            ]
          },
          "metadata": {},
          "output_type": "display_data"
        },
        {
          "data": {
            "image/png": "[encoded data removed]",
            "text/plain": [
              "<Figure size 2000x400 with 1 Axes>"
            ]
          },
          "metadata": {},
          "output_type": "display_data"
        }
      ],
      "source": [
        "def plot_piano_roll(notes: pd.DataFrame, count: int = None):\n",
        "  \"\"\"Used to visualize the notes in a track.\"\"\"\n",
        "  # source - https://www.tensorflow.org/tutorials/audio/music_generation\n",
        "\n",
        "  if count:\n",
        "    title = f'First {count} notes'\n",
        "  else:\n",
        "    title = f'Whole track'\n",
        "    count = len(notes['pitch'])\n",
        "  plt.figure(figsize=(20, 4))\n",
        "  plot_pitch = np.stack([notes['pitch'], notes['pitch']], axis=0)\n",
        "  plot_start_stop = np.stack([notes['start'], notes['end']], axis=0)\n",
        "  plt.plot(\n",
        "      plot_start_stop[:, :count], plot_pitch[:, :count], color=\"b\", marker=\".\")\n",
        "  plt.xlabel('Time [s]')\n",
        "  plt.ylabel('Pitch')\n",
        "  _ = plt.title(title)\n",
        "\n",
        "plot_piano_roll(midi_to_notes(sample_object),count=10)\n",
        "plot_piano_roll(midi_to_notes(sample_object))"
      ]
    },
    {
      "cell_type": "code",
      "execution_count": 6,
      "metadata": {
        "colab": {
          "base_uri": "https://localhost:8080/"
        },
        "id": "Fi3Wc3DH74mS",
        "outputId": "67b533ee-be0d-48d0-96a2-56ec71ef67d2"
      },
      "outputs": [
        {
          "data": {
            "text/plain": [
              "('ORIG-MIDI_01_7_7_13_Group__MID--AUDIO_12_R1_2013_wav--1.midi',\n",
              " 211.10807291666666,\n",
              " 2235,\n",
              " array([[7.70000000e+01, 0.00000000e+00, 9.24479167e-02],\n",
              "        [4.90000000e+01, 3.90625000e-03, 4.02343750e-01],\n",
              "        [7.30000000e+01, 1.09375000e-01, 6.51041667e-02],\n",
              "        ...,\n",
              "        [6.50000000e+01, 5.59895833e-02, 2.59114583e+00],\n",
              "        [6.80000000e+01, 5.72916667e-02, 2.54687500e+00],\n",
              "        [7.30000000e+01, 7.29166667e-02, 2.46614583e+00]]))"
            ]
          },
          "execution_count": 6,
          "metadata": {},
          "output_type": "execute_result"
        }
      ],
      "source": [
        "def get_song_data(file_path):\n",
        "    midi_object = pretty_midi.PrettyMIDI(file_path)\n",
        "\n",
        "    # length of song in seconds\n",
        "    song_length = midi_object.get_end_time()\n",
        "\n",
        "    # name of song\n",
        "    song_name = os.path.basename(file_path)\n",
        "\n",
        "    # notes df \n",
        "    notes_df = midi_to_notes(midi_object)\n",
        "    num_notes = len(notes_df)\n",
        "\n",
        "    # sequences of notes in array form e.g [50, 51, 52, 53, 54]\n",
        "    vectorized_notes = notes_df[['pitch','step','duration']].values\n",
        "\n",
        "    return song_name, song_length, num_notes, vectorized_notes\n",
        "    \n",
        "get_song_data(sample_file)"
      ]
    },
    {
      "cell_type": "code",
      "execution_count": 9,
      "metadata": {
        "colab": {
          "base_uri": "https://localhost:8080/"
        },
        "id": "epZ7LjRn74mS",
        "outputId": "a902b0ba-6999-43e7-f9a6-e8ed4bbc5193"
      },
      "outputs": [
        {
          "name": "stderr",
          "output_type": "stream",
          "text": [
            "100%|██████████| 1282/1282 [05:17<00:00,  4.03it/s]\n"
          ]
        },
        {
          "name": "stdout",
          "output_type": "stream",
          "text": [
            "                                           song name  song length (seconds)  \\\n",
            "0  ORIG-MIDI_01_7_7_13_Group__MID--AUDIO_12_R1_20...             211.108073   \n",
            "1  ORIG-MIDI_03_7_6_13_Group__MID--AUDIO_09_R1_20...             275.855469   \n",
            "2  ORIG-MIDI_01_7_7_13_Group__MID--AUDIO_13_R1_20...             208.595052   \n",
            "3  ORIG-MIDI_03_7_6_13_Group__MID--AUDIO_10_R1_20...             276.880208   \n",
            "4  ORIG-MIDI_02_7_6_13_Group__MID--AUDIO_08_R1_20...             119.156250   \n",
            "\n",
            "   number of notes                                   vectorized_notes  \n",
            "0             2235  [[77.0, 0.0, 0.09244791666666663], [49.0, 0.00...  \n",
            "1             4231  [[63.0, 0.0, 0.078125], [75.0, 0.0052083333333...  \n",
            "2             2280  [[77.0, 0.0, 0.10416666666666674], [49.0, 0.01...  \n",
            "3             2734  [[68.0, 0.0, 0.02604166666666674], [67.0, 0.03...  \n",
            "4             2306  [[56.0, 0.0, 0.03515625], [80.0, 0.0, 0.169270...  \n"
          ]
        }
      ],
      "source": [
        "def get_data(midi_paths):\n",
        "    data = []\n",
        "    for path in tqdm(midi_paths):\n",
        "        try:\n",
        "            song_name, song_length, num_notes, vectorized_notes = get_song_data(path)\n",
        "            song_data = [song_name, song_length, num_notes, vectorized_notes]\n",
        "            \n",
        "            # we only want songs that are less than 5 minutes\n",
        "            if song_length < 300: \n",
        "                data.append(song_data)\n",
        "            else:\n",
        "                continue\n",
        "        except:\n",
        "            print(f\"Error with {path}\")\n",
        "\n",
        "    df = pd.DataFrame(data, columns=[\"song name\", \"song length (seconds)\", \"number of notes\", \"vectorized_notes\"])\n",
        "    print(df.head())\n",
        "\n",
        "    all_notes = df['vectorized_notes']\n",
        "\n",
        "    return all_notes,df\n",
        "\n",
        "all_notes, df = get_data(midi_paths)"
      ]
    },
    {
      "cell_type": "markdown",
      "metadata": {
        "id": "b6XVEBzt74mS"
      },
      "source": [
        "This dataset is smaller than the entire dataset because we only want songs that are less than 5 minutes we're doing this to reduce the size of the dataset\n"
      ]
    },
    {
      "cell_type": "markdown",
      "metadata": {
        "id": "a33OsIRMD4AP"
      },
      "source": [
        "### Creating input and output sequences"
      ]
    },
    {
      "cell_type": "code",
      "execution_count": 24,
      "metadata": {
        "id": "Hqj9ICg3fG2E"
      },
      "outputs": [],
      "source": [
        "from tensorflow.keras.utils import to_categorical\n",
        "\n",
        "def create_input_output(data, sequence_length=128):\n",
        "    input_seqs = []\n",
        "    output_notes = []\n",
        "\n",
        "    for song in data:\n",
        "        for i in range(0, len(song) - sequence_length):\n",
        "            input_seq = song[i:i+sequence_length]\n",
        "            output_note = song[i+sequence_length]\n",
        "\n",
        "            input_seqs.append(input_seq)\n",
        "            output_notes.append(output_note)\n",
        "\n",
        "    input_seqs = np.array(input_seqs)\n",
        "    output_seqs = np.array([\n",
        "        # to_categorical(np.array([note[0] for note in output_notes])), # pitch\n",
        "        np.array([note[0] for note in output_notes]), # pitch\n",
        "        np.array([note[1] for note in output_notes]), # step\n",
        "        np.array([note[2] for note in output_notes]) # duration\n",
        "    ]).transpose()\n",
        "\n",
        "    return input_seqs, output_seqs\n",
        "\n",
        "input_seqs, output_seqs = create_input_output(all_notes)\n",
        "\n",
        "print(\"Input Sequences\")\n",
        "print(type(input_seqs))\n",
        "print(input_seqs.shape)\n",
        "\n",
        "print(\"Output Sequences\")\n",
        "print(type(output_seqs))\n",
        "print(output_seqs.shape)\n",
        "\n",
        "del all_notes"
      ]
    },
    {
      "cell_type": "markdown",
      "metadata": {
        "id": "jjuLT6FND0vX"
      },
      "source": [
        "### Creating a TF dataset"
      ]
    },
    {
      "cell_type": "code",
      "execution_count": 118,
      "metadata": {
        "id": "mlPl7ruGCR0P"
      },
      "outputs": [],
      "source": [
        "# def create_train_test(input_seqs,output_seqs,batch_size=32):\n",
        "\n",
        "#     split_index = int(len(input_seqs) * .25)\n",
        "\n",
        "#     train_input_seqs, test_input_seqs = input_seqs[:split_index], input_seqs[split_index:]\n",
        "#     train_output_pitch, test_output_pitch = output_seqs['pitch'][:split_index], output_seqs['pitch'][split_index:]\n",
        "#     train_output_step, test_output_step = output_seqs['step'][:split_index], output_seqs['step'][split_index:]\n",
        "#     train_output_duration, test_output_duration = output_seqs['duration'][:split_index], output_seqs['duration'][split_index:]\n",
        "\n",
        "\n",
        "#     train_dataset = tf.data.Dataset.from_tensor_slices((train_input_seqs, {'pitch': train_output_pitch, 'step': train_output_step, 'duration': train_output_duration}))\n",
        "#     test_dataset = tf.data.Dataset.from_tensor_slices((test_input_seqs, {'pitch': test_output_pitch, 'step': test_output_step, 'duration': test_output_duration}))\n",
        "\n",
        "#     train = train_dataset.batch(batch_size, drop_remainder=True)\n",
        "#     test = test_dataset.batch(batch_size, drop_remainder=True)\n",
        "\n",
        "\n",
        "#     return train,test\n",
        "\n",
        "# train,test = create_train_test(input_seqs,output_seqs)\n",
        "\n",
        "# num_unique_pitches = len(np.unique(output_seqs['pitch']))\n",
        "# del input_seqs, output_seqs"
      ]
    },
    {
      "cell_type": "markdown",
      "metadata": {
        "id": "c7jud_yGfG2F"
      },
      "source": [
        "# Designing the model"
      ]
    },
    {
      "cell_type": "code",
      "execution_count": 28,
      "metadata": {},
      "outputs": [],
      "source": [
        "import tensorflow as tf\n",
        "from tensorflow import keras\n",
        "from keras.layers import LSTM, Dense, Dropout, Input\n",
        "from keras.models import Sequential"
      ]
    },
    {
      "cell_type": "code",
      "execution_count": 45,
      "metadata": {},
      "outputs": [
        {
          "name": "stdout",
          "output_type": "stream",
          "text": [
            "Model: \"model_5\"\n",
            "__________________________________________________________________________________________________\n",
            " Layer (type)                   Output Shape         Param #     Connected to                     \n",
            "==================================================================================================\n",
            " input_6 (InputLayer)           [(None, 128, 3)]     0           []                               \n",
            "                                                                                                  \n",
            " lstm_5 (LSTM)                  (None, 128)          67584       ['input_6[0][0]']                \n",
            "                                                                                                  \n",
            " dense_5 (Dense)                (None, 128)          16512       ['lstm_5[0][0]']                 \n",
            "                                                                                                  \n",
            " dropout_5 (Dropout)            (None, 128)          0           ['dense_5[0][0]']                \n",
            "                                                                                                  \n",
            " duration (Dense)               (None, 1)            129         ['dropout_5[0][0]']              \n",
            "                                                                                                  \n",
            " pitch (Dense)                  (None, 128)          16512       ['dropout_5[0][0]']              \n",
            "                                                                                                  \n",
            " step (Dense)                   (None, 1)            129         ['dropout_5[0][0]']              \n",
            "                                                                                                  \n",
            "==================================================================================================\n",
            "Total params: 100,866\n",
            "Trainable params: 100,866\n",
            "Non-trainable params: 0\n",
            "__________________________________________________________________________________________________\n"
          ]
        }
      ],
      "source": [
        "# create a LSTM model using input_seqs and output_seqs\n",
        "\n",
        "input_shape = (128, 3)\n",
        "learning_rate = 0.005\n",
        "\n",
        "inputs = tf.keras.Input(input_shape)\n",
        "x = tf.keras.layers.LSTM(128)(inputs)\n",
        "x = tf.keras.layers.Dense(128, activation='relu')(x)\n",
        "x = tf.keras.layers.Dropout(0.2)(x)\n",
        "\n",
        "outputs = {\n",
        "  'pitch': tf.keras.layers.Dense(128, activation=\"softmax\",name='pitch')(x),\n",
        "  'step': tf.keras.layers.Dense(1, activation=\"linear\",name='step')(x),\n",
        "  'duration': tf.keras.layers.Dense(1, activation=\"linear\",name='duration')(x),\n",
        "}\n",
        "\n",
        "model = tf.keras.Model(inputs, outputs)\n",
        "\n",
        "loss = {\n",
        "      'pitch': \"sparse_categorical_crossentropy\",\n",
        "      'step': \"mse\",\n",
        "      'duration': \"mse\",\n",
        "}\n",
        "\n",
        "optimizer = tf.keras.optimizers.Adam(learning_rate=learning_rate)\n",
        "\n",
        "model.compile(\n",
        "    loss=loss,\n",
        "    loss_weights={\n",
        "        'pitch': 0.05,\n",
        "        'step': 1.0,\n",
        "        'duration':1.0,\n",
        "    },\n",
        "    optimizer=optimizer,\n",
        ")\n",
        "model.summary()"
      ]
    },
    {
      "cell_type": "markdown",
      "metadata": {
        "id": "NCiWfBFXDy57"
      },
      "source": [
        "Fine tuning"
      ]
    },
    {
      "cell_type": "code",
      "execution_count": 47,
      "metadata": {
        "id": "tQHqqCkILGXN"
      },
      "outputs": [
        {
          "name": "stdout",
          "output_type": "stream",
          "text": [
            "Epoch 1/100\n",
            " 2333/27463 [=>............................] - ETA: 29:31 - loss: 0.3141 - duration_loss: 0.0904 - pitch_loss: 4.0734 - step_loss: 0.0201"
          ]
        },
        {
          "ename": "KeyboardInterrupt",
          "evalue": "",
          "output_type": "error",
          "traceback": [
            "\u001b[0;31m---------------------------------------------------------------------------\u001b[0m",
            "\u001b[0;31mKeyboardInterrupt\u001b[0m                         Traceback (most recent call last)",
            "Cell \u001b[0;32mIn[47], line 16\u001b[0m\n\u001b[1;32m     12\u001b[0m step_labels \u001b[39m=\u001b[39m output_seqs[:, \u001b[39m1\u001b[39m]\u001b[39m.\u001b[39mreshape(\u001b[39m-\u001b[39m\u001b[39m1\u001b[39m, \u001b[39m1\u001b[39m)\n\u001b[1;32m     13\u001b[0m duration_labels \u001b[39m=\u001b[39m output_seqs[:, \u001b[39m2\u001b[39m]\u001b[39m.\u001b[39mreshape(\u001b[39m-\u001b[39m\u001b[39m1\u001b[39m, \u001b[39m1\u001b[39m)\n\u001b[0;32m---> 16\u001b[0m history \u001b[39m=\u001b[39m model\u001b[39m.\u001b[39;49mfit(\n\u001b[1;32m     17\u001b[0m     x\u001b[39m=\u001b[39;49minput_seqs,\n\u001b[1;32m     18\u001b[0m     y\u001b[39m=\u001b[39;49m{\u001b[39m\"\u001b[39;49m\u001b[39mpitch\u001b[39;49m\u001b[39m\"\u001b[39;49m: pitch_labels, \u001b[39m\"\u001b[39;49m\u001b[39mstep\u001b[39;49m\u001b[39m\"\u001b[39;49m: step_labels, \u001b[39m\"\u001b[39;49m\u001b[39mduration\u001b[39;49m\u001b[39m\"\u001b[39;49m: duration_labels}, \n\u001b[1;32m     19\u001b[0m     epochs\u001b[39m=\u001b[39;49mepochs,\n\u001b[1;32m     20\u001b[0m     callbacks\u001b[39m=\u001b[39;49mcallbacks,\n\u001b[1;32m     21\u001b[0m )\n",
            "File \u001b[0;32m~/opt/anaconda3/envs/myenv/lib/python3.10/site-packages/keras/utils/traceback_utils.py:65\u001b[0m, in \u001b[0;36mfilter_traceback.<locals>.error_handler\u001b[0;34m(*args, **kwargs)\u001b[0m\n\u001b[1;32m     63\u001b[0m filtered_tb \u001b[39m=\u001b[39m \u001b[39mNone\u001b[39;00m\n\u001b[1;32m     64\u001b[0m \u001b[39mtry\u001b[39;00m:\n\u001b[0;32m---> 65\u001b[0m     \u001b[39mreturn\u001b[39;00m fn(\u001b[39m*\u001b[39;49margs, \u001b[39m*\u001b[39;49m\u001b[39m*\u001b[39;49mkwargs)\n\u001b[1;32m     66\u001b[0m \u001b[39mexcept\u001b[39;00m \u001b[39mException\u001b[39;00m \u001b[39mas\u001b[39;00m e:\n\u001b[1;32m     67\u001b[0m     filtered_tb \u001b[39m=\u001b[39m _process_traceback_frames(e\u001b[39m.\u001b[39m__traceback__)\n",
            "File \u001b[0;32m~/opt/anaconda3/envs/myenv/lib/python3.10/site-packages/keras/engine/training.py:1564\u001b[0m, in \u001b[0;36mModel.fit\u001b[0;34m(self, x, y, batch_size, epochs, verbose, callbacks, validation_split, validation_data, shuffle, class_weight, sample_weight, initial_epoch, steps_per_epoch, validation_steps, validation_batch_size, validation_freq, max_queue_size, workers, use_multiprocessing)\u001b[0m\n\u001b[1;32m   1556\u001b[0m \u001b[39mwith\u001b[39;00m tf\u001b[39m.\u001b[39mprofiler\u001b[39m.\u001b[39mexperimental\u001b[39m.\u001b[39mTrace(\n\u001b[1;32m   1557\u001b[0m     \u001b[39m\"\u001b[39m\u001b[39mtrain\u001b[39m\u001b[39m\"\u001b[39m,\n\u001b[1;32m   1558\u001b[0m     epoch_num\u001b[39m=\u001b[39mepoch,\n\u001b[0;32m   (...)\u001b[0m\n\u001b[1;32m   1561\u001b[0m     _r\u001b[39m=\u001b[39m\u001b[39m1\u001b[39m,\n\u001b[1;32m   1562\u001b[0m ):\n\u001b[1;32m   1563\u001b[0m     callbacks\u001b[39m.\u001b[39mon_train_batch_begin(step)\n\u001b[0;32m-> 1564\u001b[0m     tmp_logs \u001b[39m=\u001b[39m \u001b[39mself\u001b[39;49m\u001b[39m.\u001b[39;49mtrain_function(iterator)\n\u001b[1;32m   1565\u001b[0m     \u001b[39mif\u001b[39;00m data_handler\u001b[39m.\u001b[39mshould_sync:\n\u001b[1;32m   1566\u001b[0m         context\u001b[39m.\u001b[39masync_wait()\n",
            "File \u001b[0;32m~/opt/anaconda3/envs/myenv/lib/python3.10/site-packages/tensorflow/python/util/traceback_utils.py:150\u001b[0m, in \u001b[0;36mfilter_traceback.<locals>.error_handler\u001b[0;34m(*args, **kwargs)\u001b[0m\n\u001b[1;32m    148\u001b[0m filtered_tb \u001b[39m=\u001b[39m \u001b[39mNone\u001b[39;00m\n\u001b[1;32m    149\u001b[0m \u001b[39mtry\u001b[39;00m:\n\u001b[0;32m--> 150\u001b[0m   \u001b[39mreturn\u001b[39;00m fn(\u001b[39m*\u001b[39;49margs, \u001b[39m*\u001b[39;49m\u001b[39m*\u001b[39;49mkwargs)\n\u001b[1;32m    151\u001b[0m \u001b[39mexcept\u001b[39;00m \u001b[39mException\u001b[39;00m \u001b[39mas\u001b[39;00m e:\n\u001b[1;32m    152\u001b[0m   filtered_tb \u001b[39m=\u001b[39m _process_traceback_frames(e\u001b[39m.\u001b[39m__traceback__)\n",
            "File \u001b[0;32m~/opt/anaconda3/envs/myenv/lib/python3.10/site-packages/tensorflow/python/eager/def_function.py:915\u001b[0m, in \u001b[0;36mFunction.__call__\u001b[0;34m(self, *args, **kwds)\u001b[0m\n\u001b[1;32m    912\u001b[0m compiler \u001b[39m=\u001b[39m \u001b[39m\"\u001b[39m\u001b[39mxla\u001b[39m\u001b[39m\"\u001b[39m \u001b[39mif\u001b[39;00m \u001b[39mself\u001b[39m\u001b[39m.\u001b[39m_jit_compile \u001b[39melse\u001b[39;00m \u001b[39m\"\u001b[39m\u001b[39mnonXla\u001b[39m\u001b[39m\"\u001b[39m\n\u001b[1;32m    914\u001b[0m \u001b[39mwith\u001b[39;00m OptionalXlaContext(\u001b[39mself\u001b[39m\u001b[39m.\u001b[39m_jit_compile):\n\u001b[0;32m--> 915\u001b[0m   result \u001b[39m=\u001b[39m \u001b[39mself\u001b[39;49m\u001b[39m.\u001b[39;49m_call(\u001b[39m*\u001b[39;49margs, \u001b[39m*\u001b[39;49m\u001b[39m*\u001b[39;49mkwds)\n\u001b[1;32m    917\u001b[0m new_tracing_count \u001b[39m=\u001b[39m \u001b[39mself\u001b[39m\u001b[39m.\u001b[39mexperimental_get_tracing_count()\n\u001b[1;32m    918\u001b[0m without_tracing \u001b[39m=\u001b[39m (tracing_count \u001b[39m==\u001b[39m new_tracing_count)\n",
            "File \u001b[0;32m~/opt/anaconda3/envs/myenv/lib/python3.10/site-packages/tensorflow/python/eager/def_function.py:947\u001b[0m, in \u001b[0;36mFunction._call\u001b[0;34m(self, *args, **kwds)\u001b[0m\n\u001b[1;32m    944\u001b[0m   \u001b[39mself\u001b[39m\u001b[39m.\u001b[39m_lock\u001b[39m.\u001b[39mrelease()\n\u001b[1;32m    945\u001b[0m   \u001b[39m# In this case we have created variables on the first call, so we run the\u001b[39;00m\n\u001b[1;32m    946\u001b[0m   \u001b[39m# defunned version which is guaranteed to never create variables.\u001b[39;00m\n\u001b[0;32m--> 947\u001b[0m   \u001b[39mreturn\u001b[39;00m \u001b[39mself\u001b[39;49m\u001b[39m.\u001b[39;49m_stateless_fn(\u001b[39m*\u001b[39;49margs, \u001b[39m*\u001b[39;49m\u001b[39m*\u001b[39;49mkwds)  \u001b[39m# pylint: disable=not-callable\u001b[39;00m\n\u001b[1;32m    948\u001b[0m \u001b[39melif\u001b[39;00m \u001b[39mself\u001b[39m\u001b[39m.\u001b[39m_stateful_fn \u001b[39mis\u001b[39;00m \u001b[39mnot\u001b[39;00m \u001b[39mNone\u001b[39;00m:\n\u001b[1;32m    949\u001b[0m   \u001b[39m# Release the lock early so that multiple threads can perform the call\u001b[39;00m\n\u001b[1;32m    950\u001b[0m   \u001b[39m# in parallel.\u001b[39;00m\n\u001b[1;32m    951\u001b[0m   \u001b[39mself\u001b[39m\u001b[39m.\u001b[39m_lock\u001b[39m.\u001b[39mrelease()\n",
            "File \u001b[0;32m~/opt/anaconda3/envs/myenv/lib/python3.10/site-packages/tensorflow/python/eager/function.py:2496\u001b[0m, in \u001b[0;36mFunction.__call__\u001b[0;34m(self, *args, **kwargs)\u001b[0m\n\u001b[1;32m   2493\u001b[0m \u001b[39mwith\u001b[39;00m \u001b[39mself\u001b[39m\u001b[39m.\u001b[39m_lock:\n\u001b[1;32m   2494\u001b[0m   (graph_function,\n\u001b[1;32m   2495\u001b[0m    filtered_flat_args) \u001b[39m=\u001b[39m \u001b[39mself\u001b[39m\u001b[39m.\u001b[39m_maybe_define_function(args, kwargs)\n\u001b[0;32m-> 2496\u001b[0m \u001b[39mreturn\u001b[39;00m graph_function\u001b[39m.\u001b[39;49m_call_flat(\n\u001b[1;32m   2497\u001b[0m     filtered_flat_args, captured_inputs\u001b[39m=\u001b[39;49mgraph_function\u001b[39m.\u001b[39;49mcaptured_inputs)\n",
            "File \u001b[0;32m~/opt/anaconda3/envs/myenv/lib/python3.10/site-packages/tensorflow/python/eager/function.py:1862\u001b[0m, in \u001b[0;36mConcreteFunction._call_flat\u001b[0;34m(self, args, captured_inputs, cancellation_manager)\u001b[0m\n\u001b[1;32m   1858\u001b[0m possible_gradient_type \u001b[39m=\u001b[39m gradients_util\u001b[39m.\u001b[39mPossibleTapeGradientTypes(args)\n\u001b[1;32m   1859\u001b[0m \u001b[39mif\u001b[39;00m (possible_gradient_type \u001b[39m==\u001b[39m gradients_util\u001b[39m.\u001b[39mPOSSIBLE_GRADIENT_TYPES_NONE\n\u001b[1;32m   1860\u001b[0m     \u001b[39mand\u001b[39;00m executing_eagerly):\n\u001b[1;32m   1861\u001b[0m   \u001b[39m# No tape is watching; skip to running the function.\u001b[39;00m\n\u001b[0;32m-> 1862\u001b[0m   \u001b[39mreturn\u001b[39;00m \u001b[39mself\u001b[39m\u001b[39m.\u001b[39m_build_call_outputs(\u001b[39mself\u001b[39;49m\u001b[39m.\u001b[39;49m_inference_function\u001b[39m.\u001b[39;49mcall(\n\u001b[1;32m   1863\u001b[0m       ctx, args, cancellation_manager\u001b[39m=\u001b[39;49mcancellation_manager))\n\u001b[1;32m   1864\u001b[0m forward_backward \u001b[39m=\u001b[39m \u001b[39mself\u001b[39m\u001b[39m.\u001b[39m_select_forward_and_backward_functions(\n\u001b[1;32m   1865\u001b[0m     args,\n\u001b[1;32m   1866\u001b[0m     possible_gradient_type,\n\u001b[1;32m   1867\u001b[0m     executing_eagerly)\n\u001b[1;32m   1868\u001b[0m forward_function, args_with_tangents \u001b[39m=\u001b[39m forward_backward\u001b[39m.\u001b[39mforward()\n",
            "File \u001b[0;32m~/opt/anaconda3/envs/myenv/lib/python3.10/site-packages/tensorflow/python/eager/function.py:499\u001b[0m, in \u001b[0;36m_EagerDefinedFunction.call\u001b[0;34m(self, ctx, args, cancellation_manager)\u001b[0m\n\u001b[1;32m    497\u001b[0m \u001b[39mwith\u001b[39;00m _InterpolateFunctionError(\u001b[39mself\u001b[39m):\n\u001b[1;32m    498\u001b[0m   \u001b[39mif\u001b[39;00m cancellation_manager \u001b[39mis\u001b[39;00m \u001b[39mNone\u001b[39;00m:\n\u001b[0;32m--> 499\u001b[0m     outputs \u001b[39m=\u001b[39m execute\u001b[39m.\u001b[39;49mexecute(\n\u001b[1;32m    500\u001b[0m         \u001b[39mstr\u001b[39;49m(\u001b[39mself\u001b[39;49m\u001b[39m.\u001b[39;49msignature\u001b[39m.\u001b[39;49mname),\n\u001b[1;32m    501\u001b[0m         num_outputs\u001b[39m=\u001b[39;49m\u001b[39mself\u001b[39;49m\u001b[39m.\u001b[39;49m_num_outputs,\n\u001b[1;32m    502\u001b[0m         inputs\u001b[39m=\u001b[39;49margs,\n\u001b[1;32m    503\u001b[0m         attrs\u001b[39m=\u001b[39;49mattrs,\n\u001b[1;32m    504\u001b[0m         ctx\u001b[39m=\u001b[39;49mctx)\n\u001b[1;32m    505\u001b[0m   \u001b[39melse\u001b[39;00m:\n\u001b[1;32m    506\u001b[0m     outputs \u001b[39m=\u001b[39m execute\u001b[39m.\u001b[39mexecute_with_cancellation(\n\u001b[1;32m    507\u001b[0m         \u001b[39mstr\u001b[39m(\u001b[39mself\u001b[39m\u001b[39m.\u001b[39msignature\u001b[39m.\u001b[39mname),\n\u001b[1;32m    508\u001b[0m         num_outputs\u001b[39m=\u001b[39m\u001b[39mself\u001b[39m\u001b[39m.\u001b[39m_num_outputs,\n\u001b[0;32m   (...)\u001b[0m\n\u001b[1;32m    511\u001b[0m         ctx\u001b[39m=\u001b[39mctx,\n\u001b[1;32m    512\u001b[0m         cancellation_manager\u001b[39m=\u001b[39mcancellation_manager)\n",
            "File \u001b[0;32m~/opt/anaconda3/envs/myenv/lib/python3.10/site-packages/tensorflow/python/eager/execute.py:54\u001b[0m, in \u001b[0;36mquick_execute\u001b[0;34m(op_name, num_outputs, inputs, attrs, ctx, name)\u001b[0m\n\u001b[1;32m     52\u001b[0m \u001b[39mtry\u001b[39;00m:\n\u001b[1;32m     53\u001b[0m   ctx\u001b[39m.\u001b[39mensure_initialized()\n\u001b[0;32m---> 54\u001b[0m   tensors \u001b[39m=\u001b[39m pywrap_tfe\u001b[39m.\u001b[39;49mTFE_Py_Execute(ctx\u001b[39m.\u001b[39;49m_handle, device_name, op_name,\n\u001b[1;32m     55\u001b[0m                                       inputs, attrs, num_outputs)\n\u001b[1;32m     56\u001b[0m \u001b[39mexcept\u001b[39;00m core\u001b[39m.\u001b[39m_NotOkStatusException \u001b[39mas\u001b[39;00m e:\n\u001b[1;32m     57\u001b[0m   \u001b[39mif\u001b[39;00m name \u001b[39mis\u001b[39;00m \u001b[39mnot\u001b[39;00m \u001b[39mNone\u001b[39;00m:\n",
            "\u001b[0;31mKeyboardInterrupt\u001b[0m: "
          ]
        }
      ],
      "source": [
        "callbacks = [\n",
        "    tf.keras.callbacks.EarlyStopping(\n",
        "        monitor='loss',\n",
        "        patience=5,\n",
        "        verbose=1,\n",
        "        restore_best_weights=True),\n",
        "]\n",
        "\n",
        "epochs = 100\n",
        "\n",
        "# create labels for each output\n",
        "pitch_labels = output_seqs[:, 0].astype(int)\n",
        "step_labels = output_seqs[:, 1].reshape(-1, 1)\n",
        "duration_labels = output_seqs[:, 2].reshape(-1, 1)\n",
        "\n",
        "# train the model\n",
        "history = model.fit(\n",
        "    x=input_seqs,\n",
        "    y={\"pitch\": pitch_labels, \"step\": step_labels, \"duration\": duration_labels}, \n",
        "    epochs=epochs,\n",
        "    callbacks=callbacks,\n",
        ")\n",
        "\n",
        "# save model after running\n",
        "model.save('model.h5')\n"
      ]
    },
    {
      "cell_type": "markdown",
      "metadata": {
        "id": "iRpP71VQfG2F"
      },
      "source": [
        "# Training the model\n"
      ]
    },
    {
      "cell_type": "markdown",
      "metadata": {
        "id": "fmKnzOAJDr-_"
      },
      "source": [
        "Analyzing its accuracy over time"
      ]
    },
    {
      "cell_type": "code",
      "execution_count": 131,
      "metadata": {
        "id": "61As-ASgi50i"
      },
      "outputs": [
        {
          "data": {
            "image/png": "[encoded data removed]",
            "text/plain": [
              "<Figure size 640x480 with 1 Axes>"
            ]
          },
          "metadata": {},
          "output_type": "display_data"
        }
      ],
      "source": [
        "plt.plot(history.epoch, history.history['loss'], label='total loss')\n",
        "plt.show()"
      ]
    },
    {
      "cell_type": "markdown",
      "metadata": {
        "id": "m3ltaItQ3m2F"
      },
      "source": [
        "# Generate New Music!"
      ]
    },
    {
      "cell_type": "code",
      "execution_count": 4,
      "metadata": {},
      "outputs": [
        {
          "name": "stderr",
          "output_type": "stream",
          "text": [
            "2023-04-25 13:56:53.967139: I tensorflow/core/platform/cpu_feature_guard.cc:193] This TensorFlow binary is optimized with oneAPI Deep Neural Network Library (oneDNN) to use the following CPU instructions in performance-critical operations:  SSE4.1 SSE4.2\n",
            "To enable them in other operations, rebuild TensorFlow with the appropriate compiler flags.\n"
          ]
        },
        {
          "name": "stdout",
          "output_type": "stream",
          "text": [
            "<TFRecordDatasetV2 element_spec=TensorSpec(shape=(), dtype=tf.string, name=None)>\n"
          ]
        }
      ],
      "source": [
        "# from keras.models import load_model\n",
        "\n",
        "# model = load_model('model.h5')\n",
        "# # model.summary()\n",
        "\n",
        "# test = tf.data.TFRecordDataset(\"testing_data.tfrecord\")\n",
        "# print(test)"
      ]
    },
    {
      "cell_type": "code",
      "execution_count": 5,
      "metadata": {
        "id": "M5ZNjvW6__4n"
      },
      "outputs": [],
      "source": [
        "def generate_music(model,input_seq,sequence_length):\n",
        "    predicted_sequence = None\n",
        "\n",
        "    for i in range(sequence_length):\n",
        "        prediction = model.predict(input_seq)\n",
        "        if predicted_sequence is None:\n",
        "            predicted_sequence = prediction\n",
        "        else:\n",
        "            predicted_sequence = np.concatenate((predicted_sequence, prediction), axis=0)\n",
        "\n",
        "        input_seq[:,:128,:] = input_seq[:,1:,:]\n",
        "        input_seq[:,-1,:] = prediction\n",
        "    df = pd.DataFrame(predicted_sequence, columns=['pitch','step','duration'])\n",
        "    return df"
      ]
    },
    {
      "cell_type": "code",
      "execution_count": 51,
      "metadata": {},
      "outputs": [
        {
          "name": "stdout",
          "output_type": "stream",
          "text": [
            "(128, 3)\n"
          ]
        },
        {
          "ename": "NameError",
          "evalue": "name 'mode' is not defined",
          "output_type": "error",
          "traceback": [
            "\u001b[0;31m---------------------------------------------------------------------------\u001b[0m",
            "\u001b[0;31mNameError\u001b[0m                                 Traceback (most recent call last)",
            "Cell \u001b[0;32mIn[51], line 4\u001b[0m\n\u001b[1;32m      1\u001b[0m sample_input \u001b[39m=\u001b[39m input_seqs[\u001b[39m0\u001b[39m,:,:]\n\u001b[1;32m      2\u001b[0m \u001b[39mprint\u001b[39m(sample_input\u001b[39m.\u001b[39mshape)\n\u001b[0;32m----> 4\u001b[0m mode\u001b[39m.\u001b[39mpredict(sample_input)\n",
            "\u001b[0;31mNameError\u001b[0m: name 'mode' is not defined"
          ]
        }
      ],
      "source": [
        "sample_input = input_seqs[0,:,:]\n",
        "print(sample_input.shape)\n",
        "\n",
        "df = generate_music(model,sample_input,128)\n",
        "df.head()"
      ]
    }
  ],
  "metadata": {
    "accelerator": "GPU",
    "colab": {
      "gpuType": "T4",
      "provenance": []
    },
    "gpuClass": "standard",
    "kernelspec": {
      "display_name": "venv",
      "language": "python",
      "name": "python3"
    },
    "language_info": {
      "codemirror_mode": {
        "name": "ipython",
        "version": 3
      },
      "file_extension": ".py",
      "mimetype": "text/x-python",
      "name": "python",
      "nbconvert_exporter": "python",
      "pygments_lexer": "ipython3",
      "version": "3.10.11"
    },
    "orig_nbformat": 4
  },
  "nbformat": 4,
  "nbformat_minor": 0
}
