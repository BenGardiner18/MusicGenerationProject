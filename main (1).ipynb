{
  "cells": [
    {
      "cell_type": "markdown",
      "source": [
        "# DS340 Final Project - Using ML to generate music\n",
        "Ben Gardiner"
      ],
      "metadata": {
        "id": "uLRTsnVfatCc"
      }
    },
    {
      "cell_type": "code",
      "execution_count": null,
      "metadata": {
        "id": "jJhZN_lrAssf",
        "colab": {
          "base_uri": "https://localhost:8080/"
        },
        "outputId": "3af10e9d-a0ff-4696-ee95-7f2b43abbbbb"
      },
      "outputs": [
        {
          "output_type": "stream",
          "name": "stdout",
          "text": [
            "Looking in indexes: https://pypi.org/simple, https://us-python.pkg.dev/colab-wheels/public/simple/\n",
            "Requirement already satisfied: pretty_midi in /usr/local/lib/python3.9/dist-packages (0.2.10)\n",
            "Requirement already satisfied: six in /usr/local/lib/python3.9/dist-packages (from pretty_midi) (1.16.0)\n",
            "Requirement already satisfied: numpy>=1.7.0 in /usr/local/lib/python3.9/dist-packages (from pretty_midi) (1.22.4)\n",
            "Requirement already satisfied: mido>=1.1.16 in /usr/local/lib/python3.9/dist-packages (from pretty_midi) (1.2.10)\n"
          ]
        }
      ],
      "source": [
        "import os\n",
        "import numpy as np\n",
        "import pandas as pd\n",
        "import matplotlib.pyplot as plt\n",
        "import tensorflow as tf\n",
        "import warnings\n",
        "# import sklearn\n",
        "!pip install pretty_midi\n",
        "import pretty_midi\n",
        "from tqdm import tqdm\n",
        "import random \n",
        "import re\n",
        "import collections \n",
        "import pathlib \n",
        "import glob \n",
        "warnings.simplefilter(\"ignore\", UserWarning)"
      ]
    },
    {
      "cell_type": "markdown",
      "source": [
        "# Introduction\n",
        "\n",
        "For this assignment I wanted to generate unique artifical music using machine learning. Music can be represented a sequence of sounds following each other, so I collected data in time series format and used a LSTM model to predict the sound that would come next."
      ],
      "metadata": {
        "id": "f-GBT3j5kis-"
      }
    },
    {
      "cell_type": "markdown",
      "source": [
        "# Methodology\n",
        "\n",
        "1. get data \n",
        "2. preprocess data \n",
        "3. build modeel\n",
        "4. train it \n",
        "5. generate new music"
      ],
      "metadata": {
        "id": "0a6NZ2wplHte"
      }
    },
    {
      "cell_type": "markdown",
      "metadata": {
        "id": "V6TEAPSxfG2B"
      },
      "source": [
        "# Getting data \n",
        "\n",
        "The Maestro dataset is a collection of over 200 hours of classical piano performances in MIDI and audio formats, spanning a wide range of musical styles and composers. It includes annotations such as tempo, dynamics, and pedal usage, and is commonly used for machine learning, music information retrieval, and computer music research. It can be downloaded for non-commercial use from the Magenta project website.\n",
        "\n",
        "https://magenta.tensorflow.org/datasets/maestro"
      ]
    },
    {
      "cell_type": "code",
      "execution_count": null,
      "metadata": {
        "colab": {
          "base_uri": "https://localhost:8080/"
        },
        "id": "-SsxyF9pfG2C",
        "outputId": "31116457-acd1-4c3c-b4e3-c768de1e380c"
      },
      "outputs": [
        {
          "output_type": "stream",
          "name": "stdout",
          "text": [
            "Number of files: 1282\n"
          ]
        }
      ],
      "source": [
        "data_dir = pathlib.Path('data/maestro-v2.0.0')\n",
        "if not data_dir.exists():\n",
        "  tf.keras.utils.get_file(\n",
        "      'maestro-v2.0.0-midi.zip',\n",
        "      origin='https://storage.googleapis.com/magentadata/datasets/maestro/v2.0.0/maestro-v2.0.0-midi.zip',\n",
        "      extract=True,\n",
        "      cache_dir='.', cache_subdir='data',\n",
        "  )\n",
        "\n",
        "midi_paths = glob.glob(str(data_dir/'**/*.mid*'))\n",
        "print('Number of files:', len(midi_paths))"
      ]
    },
    {
      "cell_type": "code",
      "execution_count": null,
      "metadata": {
        "id": "k4fHa7d3Br45"
      },
      "outputs": [],
      "source": [
        "sample_file = midi_paths[0]\n",
        "sample_object = pretty_midi.PrettyMIDI(sample_file)"
      ]
    },
    {
      "cell_type": "markdown",
      "metadata": {
        "id": "27FaWoX9fG2D"
      },
      "source": [
        "# Preprocessing our data\n",
        "\n",
        "Right now our data is a bunch of MIDI files stored in our directory, but we need to transform these files into something the neural network can consume. We will preprocess the data with the following steps...\n",
        "\n",
        "1. take a MIDI object and turn it into a sequence of notes \n",
        "2. visualize the song by plotting a sequence of notes \n",
        "3. iterate through all the songs in the dataset and collect song data (sequence of notes, name of song, length of second (seconds), etc.)"
      ]
    },
    {
      "cell_type": "code",
      "execution_count": null,
      "metadata": {
        "colab": {
          "base_uri": "https://localhost:8080/",
          "height": 423
        },
        "id": "9a-xhn1o74mR",
        "outputId": "c5e1ce9e-c93b-4adb-fe07-01c42e02f986"
      },
      "outputs": [
        {
          "output_type": "execute_result",
          "data": {
            "text/plain": [
              "       pitch note_name        start          end      step  duration\n",
              "0         73       C#5     1.009115     1.389323  0.000000  0.380208\n",
              "1         64        E4     1.062500     1.488281  0.053385  0.425781\n",
              "2         68       G#4     1.067708     1.447917  0.005208  0.380208\n",
              "3         37       C#2     1.078125     4.541667  0.010417  3.463542\n",
              "4         61       C#4     1.089844     1.635417  0.011719  0.545573\n",
              "...      ...       ...          ...          ...       ...       ...\n",
              "23830     80       G#5  2094.555990  2096.174479  0.424479  1.618490\n",
              "23831     85       C#6  2094.555990  2096.311198  0.000000  1.755208\n",
              "23832     89        F6  2094.555990  2096.398438  0.000000  1.842448\n",
              "23833     77        F5  2094.557292  2096.207031  0.001302  1.649740\n",
              "23834     73       C#5  2094.563802  2094.605469  0.006510  0.041667\n",
              "\n",
              "[23835 rows x 6 columns]"
            ],
            "text/html": [
              "\n",
              "  <div id=\"df-d4858cb8-6e66-4fe9-b369-44132e4d7f2d\">\n",
              "    <div class=\"colab-df-container\">\n",
              "      <div>\n",
              "<style scoped>\n",
              "    .dataframe tbody tr th:only-of-type {\n",
              "        vertical-align: middle;\n",
              "    }\n",
              "\n",
              "    .dataframe tbody tr th {\n",
              "        vertical-align: top;\n",
              "    }\n",
              "\n",
              "    .dataframe thead th {\n",
              "        text-align: right;\n",
              "    }\n",
              "</style>\n",
              "<table border=\"1\" class=\"dataframe\">\n",
              "  <thead>\n",
              "    <tr style=\"text-align: right;\">\n",
              "      <th></th>\n",
              "      <th>pitch</th>\n",
              "      <th>note_name</th>\n",
              "      <th>start</th>\n",
              "      <th>end</th>\n",
              "      <th>step</th>\n",
              "      <th>duration</th>\n",
              "    </tr>\n",
              "  </thead>\n",
              "  <tbody>\n",
              "    <tr>\n",
              "      <th>0</th>\n",
              "      <td>73</td>\n",
              "      <td>C#5</td>\n",
              "      <td>1.009115</td>\n",
              "      <td>1.389323</td>\n",
              "      <td>0.000000</td>\n",
              "      <td>0.380208</td>\n",
              "    </tr>\n",
              "    <tr>\n",
              "      <th>1</th>\n",
              "      <td>64</td>\n",
              "      <td>E4</td>\n",
              "      <td>1.062500</td>\n",
              "      <td>1.488281</td>\n",
              "      <td>0.053385</td>\n",
              "      <td>0.425781</td>\n",
              "    </tr>\n",
              "    <tr>\n",
              "      <th>2</th>\n",
              "      <td>68</td>\n",
              "      <td>G#4</td>\n",
              "      <td>1.067708</td>\n",
              "      <td>1.447917</td>\n",
              "      <td>0.005208</td>\n",
              "      <td>0.380208</td>\n",
              "    </tr>\n",
              "    <tr>\n",
              "      <th>3</th>\n",
              "      <td>37</td>\n",
              "      <td>C#2</td>\n",
              "      <td>1.078125</td>\n",
              "      <td>4.541667</td>\n",
              "      <td>0.010417</td>\n",
              "      <td>3.463542</td>\n",
              "    </tr>\n",
              "    <tr>\n",
              "      <th>4</th>\n",
              "      <td>61</td>\n",
              "      <td>C#4</td>\n",
              "      <td>1.089844</td>\n",
              "      <td>1.635417</td>\n",
              "      <td>0.011719</td>\n",
              "      <td>0.545573</td>\n",
              "    </tr>\n",
              "    <tr>\n",
              "      <th>...</th>\n",
              "      <td>...</td>\n",
              "      <td>...</td>\n",
              "      <td>...</td>\n",
              "      <td>...</td>\n",
              "      <td>...</td>\n",
              "      <td>...</td>\n",
              "    </tr>\n",
              "    <tr>\n",
              "      <th>23830</th>\n",
              "      <td>80</td>\n",
              "      <td>G#5</td>\n",
              "      <td>2094.555990</td>\n",
              "      <td>2096.174479</td>\n",
              "      <td>0.424479</td>\n",
              "      <td>1.618490</td>\n",
              "    </tr>\n",
              "    <tr>\n",
              "      <th>23831</th>\n",
              "      <td>85</td>\n",
              "      <td>C#6</td>\n",
              "      <td>2094.555990</td>\n",
              "      <td>2096.311198</td>\n",
              "      <td>0.000000</td>\n",
              "      <td>1.755208</td>\n",
              "    </tr>\n",
              "    <tr>\n",
              "      <th>23832</th>\n",
              "      <td>89</td>\n",
              "      <td>F6</td>\n",
              "      <td>2094.555990</td>\n",
              "      <td>2096.398438</td>\n",
              "      <td>0.000000</td>\n",
              "      <td>1.842448</td>\n",
              "    </tr>\n",
              "    <tr>\n",
              "      <th>23833</th>\n",
              "      <td>77</td>\n",
              "      <td>F5</td>\n",
              "      <td>2094.557292</td>\n",
              "      <td>2096.207031</td>\n",
              "      <td>0.001302</td>\n",
              "      <td>1.649740</td>\n",
              "    </tr>\n",
              "    <tr>\n",
              "      <th>23834</th>\n",
              "      <td>73</td>\n",
              "      <td>C#5</td>\n",
              "      <td>2094.563802</td>\n",
              "      <td>2094.605469</td>\n",
              "      <td>0.006510</td>\n",
              "      <td>0.041667</td>\n",
              "    </tr>\n",
              "  </tbody>\n",
              "</table>\n",
              "<p>23835 rows × 6 columns</p>\n",
              "</div>\n",
              "      <button class=\"colab-df-convert\" onclick=\"convertToInteractive('df-d4858cb8-6e66-4fe9-b369-44132e4d7f2d')\"\n",
              "              title=\"Convert this dataframe to an interactive table.\"\n",
              "              style=\"display:none;\">\n",
              "        \n",
              "  <svg xmlns=\"http://www.w3.org/2000/svg\" height=\"24px\"viewBox=\"0 0 24 24\"\n",
              "       width=\"24px\">\n",
              "    <path d=\"M0 0h24v24H0V0z\" fill=\"none\"/>\n",
              "    <path d=\"M18.56 5.44l.94 2.06.94-2.06 2.06-.94-2.06-.94-.94-2.06-.94 2.06-2.06.94zm-11 1L8.5 8.5l.94-2.06 2.06-.94-2.06-.94L8.5 2.5l-.94 2.06-2.06.94zm10 10l.94 2.06.94-2.06 2.06-.94-2.06-.94-.94-2.06-.94 2.06-2.06.94z\"/><path d=\"M17.41 7.96l-1.37-1.37c-.4-.4-.92-.59-1.43-.59-.52 0-1.04.2-1.43.59L10.3 9.45l-7.72 7.72c-.78.78-.78 2.05 0 2.83L4 21.41c.39.39.9.59 1.41.59.51 0 1.02-.2 1.41-.59l7.78-7.78 2.81-2.81c.8-.78.8-2.07 0-2.86zM5.41 20L4 18.59l7.72-7.72 1.47 1.35L5.41 20z\"/>\n",
              "  </svg>\n",
              "      </button>\n",
              "      \n",
              "  <style>\n",
              "    .colab-df-container {\n",
              "      display:flex;\n",
              "      flex-wrap:wrap;\n",
              "      gap: 12px;\n",
              "    }\n",
              "\n",
              "    .colab-df-convert {\n",
              "      background-color: #E8F0FE;\n",
              "      border: none;\n",
              "      border-radius: 50%;\n",
              "      cursor: pointer;\n",
              "      display: none;\n",
              "      fill: #1967D2;\n",
              "      height: 32px;\n",
              "      padding: 0 0 0 0;\n",
              "      width: 32px;\n",
              "    }\n",
              "\n",
              "    .colab-df-convert:hover {\n",
              "      background-color: #E2EBFA;\n",
              "      box-shadow: 0px 1px 2px rgba(60, 64, 67, 0.3), 0px 1px 3px 1px rgba(60, 64, 67, 0.15);\n",
              "      fill: #174EA6;\n",
              "    }\n",
              "\n",
              "    [theme=dark] .colab-df-convert {\n",
              "      background-color: #3B4455;\n",
              "      fill: #D2E3FC;\n",
              "    }\n",
              "\n",
              "    [theme=dark] .colab-df-convert:hover {\n",
              "      background-color: #434B5C;\n",
              "      box-shadow: 0px 1px 3px 1px rgba(0, 0, 0, 0.15);\n",
              "      filter: drop-shadow(0px 1px 2px rgba(0, 0, 0, 0.3));\n",
              "      fill: #FFFFFF;\n",
              "    }\n",
              "  </style>\n",
              "\n",
              "      <script>\n",
              "        const buttonEl =\n",
              "          document.querySelector('#df-d4858cb8-6e66-4fe9-b369-44132e4d7f2d button.colab-df-convert');\n",
              "        buttonEl.style.display =\n",
              "          google.colab.kernel.accessAllowed ? 'block' : 'none';\n",
              "\n",
              "        async function convertToInteractive(key) {\n",
              "          const element = document.querySelector('#df-d4858cb8-6e66-4fe9-b369-44132e4d7f2d');\n",
              "          const dataTable =\n",
              "            await google.colab.kernel.invokeFunction('convertToInteractive',\n",
              "                                                     [key], {});\n",
              "          if (!dataTable) return;\n",
              "\n",
              "          const docLinkHtml = 'Like what you see? Visit the ' +\n",
              "            '<a target=\"_blank\" href=https://colab.research.google.com/notebooks/data_table.ipynb>data table notebook</a>'\n",
              "            + ' to learn more about interactive tables.';\n",
              "          element.innerHTML = '';\n",
              "          dataTable['output_type'] = 'display_data';\n",
              "          await google.colab.output.renderOutput(dataTable, element);\n",
              "          const docLink = document.createElement('div');\n",
              "          docLink.innerHTML = docLinkHtml;\n",
              "          element.appendChild(docLink);\n",
              "        }\n",
              "      </script>\n",
              "    </div>\n",
              "  </div>\n",
              "  "
            ]
          },
          "metadata": {},
          "execution_count": 21
        }
      ],
      "source": [
        "\n",
        "def midi_to_notes(midi_object):\n",
        "  # source - https://www.tensorflow.org/tutorials/audio/music_generation\n",
        "  instrument = midi_object.instruments[0]\n",
        "  notes = collections.defaultdict(list)\n",
        "\n",
        "  # Sort the notes by start time\n",
        "  sorted_notes = sorted(instrument.notes, key=lambda note: note.start)\n",
        "  prev_start = sorted_notes[0].start\n",
        "  \n",
        "  for note in sorted_notes:\n",
        "    start = note.start\n",
        "    end = note.end\n",
        "    pitch = note.pitch\n",
        "    notes['pitch'].append(pitch)\n",
        "    notes['note_name'].append(pretty_midi.note_number_to_name(pitch)) # e.g 50 -> D3\n",
        "    notes['start'].append(start)\n",
        "    notes['end'].append(end)\n",
        "    notes['step'].append(start - prev_start)\n",
        "    notes['duration'].append(end - start)\n",
        "    prev_start = start\n",
        "\n",
        "  return pd.DataFrame({name: np.array(value) for name, value in notes.items()})\n",
        "\n",
        "midi_to_notes(sample_object)\n"
      ]
    },
    {
      "cell_type": "code",
      "execution_count": null,
      "metadata": {
        "colab": {
          "base_uri": "https://localhost:8080/",
          "height": 803
        },
        "id": "aeXnwLYl74mR",
        "outputId": "3eaa98c2-7a00-4c22-85d2-b2c2e7576047"
      },
      "outputs": [
        {
          "output_type": "display_data",
          "data": {
            "text/plain": [
              "<Figure size 2000x400 with 1 Axes>"
            ],
            "image/png": "[encoded data removed]"
          },
          "metadata": {}
        },
        {
          "output_type": "display_data",
          "data": {
            "text/plain": [
              "<Figure size 2000x400 with 1 Axes>"
            ],
            "image/png": "[encoded data removed]"
          },
          "metadata": {}
        }
      ],
      "source": [
        "def plot_piano_roll(notes: pd.DataFrame, count: int = None):\n",
        "  \"\"\"Used to visualize the notes in a track.\"\"\"\n",
        "  # source - https://www.tensorflow.org/tutorials/audio/music_generation\n",
        "\n",
        "  if count:\n",
        "    title = f'First {count} notes'\n",
        "  else:\n",
        "    title = f'Whole track'\n",
        "    count = len(notes['pitch'])\n",
        "  plt.figure(figsize=(20, 4))\n",
        "  plot_pitch = np.stack([notes['pitch'], notes['pitch']], axis=0)\n",
        "  plot_start_stop = np.stack([notes['start'], notes['end']], axis=0)\n",
        "  plt.plot(\n",
        "      plot_start_stop[:, :count], plot_pitch[:, :count], color=\"b\", marker=\".\")\n",
        "  plt.xlabel('Time [s]')\n",
        "  plt.ylabel('Pitch')\n",
        "  _ = plt.title(title)\n",
        "\n",
        "plot_piano_roll(midi_to_notes(sample_object),count=10)\n",
        "plot_piano_roll(midi_to_notes(sample_object))"
      ]
    },
    {
      "cell_type": "code",
      "execution_count": null,
      "metadata": {
        "colab": {
          "base_uri": "https://localhost:8080/"
        },
        "id": "Fi3Wc3DH74mS",
        "outputId": "2f9ebe47-b652-4b16-ac60-f3d884728c7d"
      },
      "outputs": [
        {
          "output_type": "execute_result",
          "data": {
            "text/plain": [
              "('MIDI-Unprocessed_Recital20_MID--AUDIO_20_R1_2018_wav--4.midi',\n",
              " 2098.052083333333,\n",
              " 23835,\n",
              " array([[7.30000000e+01, 0.00000000e+00, 3.80208333e-01],\n",
              "        [6.40000000e+01, 5.33854167e-02, 4.25781250e-01],\n",
              "        [6.80000000e+01, 5.20833333e-03, 3.80208333e-01],\n",
              "        ...,\n",
              "        [8.90000000e+01, 0.00000000e+00, 1.84244792e+00],\n",
              "        [7.70000000e+01, 1.30208333e-03, 1.64973958e+00],\n",
              "        [7.30000000e+01, 6.51041667e-03, 4.16666667e-02]]))"
            ]
          },
          "metadata": {},
          "execution_count": 23
        }
      ],
      "source": [
        "def get_song_data(file_path):\n",
        "    \"\"\"Returns song name, length, number of notes, and vectorized notes for an INDIVIDUAL song\"\"\"\n",
        "    midi_object = pretty_midi.PrettyMIDI(file_path)\n",
        "\n",
        "    # length of song in seconds\n",
        "    song_length = midi_object.get_end_time()\n",
        "\n",
        "    # name of song\n",
        "    song_name = os.path.basename(file_path)\n",
        "\n",
        "    # notes df \n",
        "    notes_df = midi_to_notes(midi_object)\n",
        "    num_notes = len(notes_df)\n",
        "\n",
        "    # sequences of notes in array form e.g [50, 51, 52, 53, 54]\n",
        "    vectorized_notes = notes_df[['pitch','step','duration']].values\n",
        "\n",
        "    return song_name, song_length, num_notes, vectorized_notes\n",
        "    \n",
        "get_song_data(sample_file)"
      ]
    },
    {
      "cell_type": "code",
      "execution_count": null,
      "metadata": {
        "colab": {
          "base_uri": "https://localhost:8080/",
          "height": 223
        },
        "id": "epZ7LjRn74mS",
        "outputId": "6397f205-d580-4eb8-9b4d-5a434d9a3eb6"
      },
      "outputs": [
        {
          "output_type": "stream",
          "name": "stderr",
          "text": [
            "100%|██████████| 1282/1282 [07:15<00:00,  2.94it/s]\n"
          ]
        },
        {
          "output_type": "execute_result",
          "data": {
            "text/plain": [
              "                                           song name  song length (seconds)  \\\n",
              "0  MIDI-Unprocessed_Recital13-15_MID--AUDIO_15_R1...             249.329427   \n",
              "1  MIDI-Unprocessed_Recital9-11_MID--AUDIO_09_R1_...             216.591146   \n",
              "2  MIDI-Unprocessed_Recital17-19_MID--AUDIO_17_R1...             295.718750   \n",
              "3  MIDI-Unprocessed_Recital9-11_MID--AUDIO_09_R1_...             194.766927   \n",
              "4  MIDI-Unprocessed_Recital1-3_MID--AUDIO_03_R1_2...             256.501302   \n",
              "\n",
              "   number of notes                                   vectorized_notes  \n",
              "0             1094  [[43.0, 0.0, 2.095052083333333], [50.0, 0.3880...  \n",
              "1             1095  [[77.0, 0.0, 1.1861979166666665], [81.0, 1.096...  \n",
              "2             3821  [[63.0, 0.0, 0.3346354166666667], [39.0, 0.666...  \n",
              "3             3085  [[50.0, 0.0, 0.1367187499999999], [55.0, 0.063...  \n",
              "4             1122  [[62.0, 0.0, 1.3606770833333335], [59.0, 0.016...  "
            ],
            "text/html": [
              "\n",
              "  <div id=\"df-12c05a45-c750-462b-9d49-dce9808c2267\">\n",
              "    <div class=\"colab-df-container\">\n",
              "      <div>\n",
              "<style scoped>\n",
              "    .dataframe tbody tr th:only-of-type {\n",
              "        vertical-align: middle;\n",
              "    }\n",
              "\n",
              "    .dataframe tbody tr th {\n",
              "        vertical-align: top;\n",
              "    }\n",
              "\n",
              "    .dataframe thead th {\n",
              "        text-align: right;\n",
              "    }\n",
              "</style>\n",
              "<table border=\"1\" class=\"dataframe\">\n",
              "  <thead>\n",
              "    <tr style=\"text-align: right;\">\n",
              "      <th></th>\n",
              "      <th>song name</th>\n",
              "      <th>song length (seconds)</th>\n",
              "      <th>number of notes</th>\n",
              "      <th>vectorized_notes</th>\n",
              "    </tr>\n",
              "  </thead>\n",
              "  <tbody>\n",
              "    <tr>\n",
              "      <th>0</th>\n",
              "      <td>MIDI-Unprocessed_Recital13-15_MID--AUDIO_15_R1...</td>\n",
              "      <td>249.329427</td>\n",
              "      <td>1094</td>\n",
              "      <td>[[43.0, 0.0, 2.095052083333333], [50.0, 0.3880...</td>\n",
              "    </tr>\n",
              "    <tr>\n",
              "      <th>1</th>\n",
              "      <td>MIDI-Unprocessed_Recital9-11_MID--AUDIO_09_R1_...</td>\n",
              "      <td>216.591146</td>\n",
              "      <td>1095</td>\n",
              "      <td>[[77.0, 0.0, 1.1861979166666665], [81.0, 1.096...</td>\n",
              "    </tr>\n",
              "    <tr>\n",
              "      <th>2</th>\n",
              "      <td>MIDI-Unprocessed_Recital17-19_MID--AUDIO_17_R1...</td>\n",
              "      <td>295.718750</td>\n",
              "      <td>3821</td>\n",
              "      <td>[[63.0, 0.0, 0.3346354166666667], [39.0, 0.666...</td>\n",
              "    </tr>\n",
              "    <tr>\n",
              "      <th>3</th>\n",
              "      <td>MIDI-Unprocessed_Recital9-11_MID--AUDIO_09_R1_...</td>\n",
              "      <td>194.766927</td>\n",
              "      <td>3085</td>\n",
              "      <td>[[50.0, 0.0, 0.1367187499999999], [55.0, 0.063...</td>\n",
              "    </tr>\n",
              "    <tr>\n",
              "      <th>4</th>\n",
              "      <td>MIDI-Unprocessed_Recital1-3_MID--AUDIO_03_R1_2...</td>\n",
              "      <td>256.501302</td>\n",
              "      <td>1122</td>\n",
              "      <td>[[62.0, 0.0, 1.3606770833333335], [59.0, 0.016...</td>\n",
              "    </tr>\n",
              "  </tbody>\n",
              "</table>\n",
              "</div>\n",
              "      <button class=\"colab-df-convert\" onclick=\"convertToInteractive('df-12c05a45-c750-462b-9d49-dce9808c2267')\"\n",
              "              title=\"Convert this dataframe to an interactive table.\"\n",
              "              style=\"display:none;\">\n",
              "        \n",
              "  <svg xmlns=\"http://www.w3.org/2000/svg\" height=\"24px\"viewBox=\"0 0 24 24\"\n",
              "       width=\"24px\">\n",
              "    <path d=\"M0 0h24v24H0V0z\" fill=\"none\"/>\n",
              "    <path d=\"M18.56 5.44l.94 2.06.94-2.06 2.06-.94-2.06-.94-.94-2.06-.94 2.06-2.06.94zm-11 1L8.5 8.5l.94-2.06 2.06-.94-2.06-.94L8.5 2.5l-.94 2.06-2.06.94zm10 10l.94 2.06.94-2.06 2.06-.94-2.06-.94-.94-2.06-.94 2.06-2.06.94z\"/><path d=\"M17.41 7.96l-1.37-1.37c-.4-.4-.92-.59-1.43-.59-.52 0-1.04.2-1.43.59L10.3 9.45l-7.72 7.72c-.78.78-.78 2.05 0 2.83L4 21.41c.39.39.9.59 1.41.59.51 0 1.02-.2 1.41-.59l7.78-7.78 2.81-2.81c.8-.78.8-2.07 0-2.86zM5.41 20L4 18.59l7.72-7.72 1.47 1.35L5.41 20z\"/>\n",
              "  </svg>\n",
              "      </button>\n",
              "      \n",
              "  <style>\n",
              "    .colab-df-container {\n",
              "      display:flex;\n",
              "      flex-wrap:wrap;\n",
              "      gap: 12px;\n",
              "    }\n",
              "\n",
              "    .colab-df-convert {\n",
              "      background-color: #E8F0FE;\n",
              "      border: none;\n",
              "      border-radius: 50%;\n",
              "      cursor: pointer;\n",
              "      display: none;\n",
              "      fill: #1967D2;\n",
              "      height: 32px;\n",
              "      padding: 0 0 0 0;\n",
              "      width: 32px;\n",
              "    }\n",
              "\n",
              "    .colab-df-convert:hover {\n",
              "      background-color: #E2EBFA;\n",
              "      box-shadow: 0px 1px 2px rgba(60, 64, 67, 0.3), 0px 1px 3px 1px rgba(60, 64, 67, 0.15);\n",
              "      fill: #174EA6;\n",
              "    }\n",
              "\n",
              "    [theme=dark] .colab-df-convert {\n",
              "      background-color: #3B4455;\n",
              "      fill: #D2E3FC;\n",
              "    }\n",
              "\n",
              "    [theme=dark] .colab-df-convert:hover {\n",
              "      background-color: #434B5C;\n",
              "      box-shadow: 0px 1px 3px 1px rgba(0, 0, 0, 0.15);\n",
              "      filter: drop-shadow(0px 1px 2px rgba(0, 0, 0, 0.3));\n",
              "      fill: #FFFFFF;\n",
              "    }\n",
              "  </style>\n",
              "\n",
              "      <script>\n",
              "        const buttonEl =\n",
              "          document.querySelector('#df-12c05a45-c750-462b-9d49-dce9808c2267 button.colab-df-convert');\n",
              "        buttonEl.style.display =\n",
              "          google.colab.kernel.accessAllowed ? 'block' : 'none';\n",
              "\n",
              "        async function convertToInteractive(key) {\n",
              "          const element = document.querySelector('#df-12c05a45-c750-462b-9d49-dce9808c2267');\n",
              "          const dataTable =\n",
              "            await google.colab.kernel.invokeFunction('convertToInteractive',\n",
              "                                                     [key], {});\n",
              "          if (!dataTable) return;\n",
              "\n",
              "          const docLinkHtml = 'Like what you see? Visit the ' +\n",
              "            '<a target=\"_blank\" href=https://colab.research.google.com/notebooks/data_table.ipynb>data table notebook</a>'\n",
              "            + ' to learn more about interactive tables.';\n",
              "          element.innerHTML = '';\n",
              "          dataTable['output_type'] = 'display_data';\n",
              "          await google.colab.output.renderOutput(dataTable, element);\n",
              "          const docLink = document.createElement('div');\n",
              "          docLink.innerHTML = docLinkHtml;\n",
              "          element.appendChild(docLink);\n",
              "        }\n",
              "      </script>\n",
              "    </div>\n",
              "  </div>\n",
              "  "
            ]
          },
          "metadata": {},
          "execution_count": 24
        }
      ],
      "source": [
        "def get_data(midi_paths):\n",
        "    data = []\n",
        "    for path in tqdm(midi_paths):\n",
        "        try:\n",
        "            song_name, song_length, num_notes, vectorized_notes = get_song_data(path)\n",
        "            song_data = [song_name, song_length, num_notes, vectorized_notes]\n",
        "            \n",
        "            # we only want songs that are less than 5 minutes\n",
        "            if song_length < 300: \n",
        "                data.append(song_data)\n",
        "            else:\n",
        "                continue\n",
        "        except:\n",
        "            print(f\"Error with {path}\")\n",
        "\n",
        "    df = pd.DataFrame(data, columns=[\"song name\", \"song length (seconds)\", \"number of notes\", \"vectorized_notes\"])\n",
        "    # print(df.head())\n",
        "\n",
        "    all_notes = df['vectorized_notes']\n",
        "\n",
        "    return all_notes,df\n",
        "\n",
        "all_notes, df = get_data(midi_paths)\n",
        "\n",
        "df.head()"
      ]
    },
    {
      "cell_type": "markdown",
      "metadata": {
        "id": "a33OsIRMD4AP"
      },
      "source": [
        "### Creating input and output sequences\n",
        "\n",
        "Right now our data is a list of songs where each song is a sequence of notes. However, we need to reshape our data into something the model can understand, so we need to create input and output sequences.\n",
        "\n",
        "We iterate through all the data and collect 64 note sequences and the note that follows. We'll train the model on the 64 note sequences and hope it learns what note should follow. Just like you could use a time series model to predict where a stock might be based on where it was in the past."
      ]
    },
    {
      "cell_type": "code",
      "execution_count": null,
      "metadata": {
        "id": "Hqj9ICg3fG2E",
        "colab": {
          "base_uri": "https://localhost:8080/"
        },
        "outputId": "881d40ad-c0cb-481d-9672-55980245a439"
      },
      "outputs": [
        {
          "output_type": "stream",
          "name": "stdout",
          "text": [
            "Input Sequences\n",
            "<class 'numpy.ndarray'>\n",
            "(920923, 25, 3)\n",
            "Output Sequences\n",
            "<class 'numpy.ndarray'>\n",
            "(920923, 3)\n"
          ]
        }
      ],
      "source": [
        "from tensorflow.keras.utils import to_categorical\n",
        "\n",
        "def create_input_output(data, sequence_length=25):\n",
        "    input_seqs = []\n",
        "    output_notes = []\n",
        "\n",
        "    for song in data:\n",
        "        for i in range(0, len(song) - sequence_length):\n",
        "            input_seq = song[i:i+sequence_length]\n",
        "            output_note = song[i+sequence_length]\n",
        "\n",
        "            input_seqs.append(input_seq)\n",
        "            output_notes.append(output_note)\n",
        "\n",
        "    input_seqs = np.array(input_seqs)\n",
        "    output_seqs = np.array([\n",
        "        # to_categorical(np.array([note[0] for note in output_notes])), # pitch\n",
        "        np.array([note[0] for note in output_notes]), # pitch\n",
        "        np.array([note[1] for note in output_notes]), # step\n",
        "        np.array([note[2] for note in output_notes]) # duration\n",
        "    ]).transpose()\n",
        "\n",
        "    return input_seqs, output_seqs\n",
        "\n",
        "input_seqs, output_seqs = create_input_output(all_notes)\n",
        "\n",
        "print(\"Input Sequences\")\n",
        "print(type(input_seqs))\n",
        "print(input_seqs.shape)\n",
        "\n",
        "print(\"Output Sequences\")\n",
        "print(type(output_seqs))\n",
        "print(output_seqs.shape)\n",
        "\n",
        "del all_notes"
      ]
    },
    {
      "cell_type": "markdown",
      "metadata": {
        "id": "jjuLT6FND0vX"
      },
      "source": [
        "### Creating a train and test set"
      ]
    },
    {
      "cell_type": "code",
      "execution_count": null,
      "metadata": {
        "id": "PDIIDr34UBT0"
      },
      "outputs": [],
      "source": [
        "from sklearn.model_selection import train_test_split\n",
        "\n",
        "# Split the data into train and test sets (80% train, 20% test)\n",
        "x_train, x_test, y_train, y_test = train_test_split(input_seqs, output_seqs, test_size=0.2)\n"
      ]
    },
    {
      "cell_type": "markdown",
      "metadata": {
        "id": "c7jud_yGfG2F"
      },
      "source": [
        "# Designing the model"
      ]
    },
    {
      "cell_type": "code",
      "execution_count": null,
      "metadata": {
        "id": "qruHFP0cUBT0"
      },
      "outputs": [],
      "source": [
        "import tensorflow as tf\n",
        "from tensorflow import keras\n",
        "from keras.layers import LSTM, Dense, Dropout, Input\n",
        "from keras.models import Sequential\n",
        "from keras.layers import Lambda\n",
        "import keras.backend as K\n"
      ]
    },
    {
      "cell_type": "code",
      "execution_count": null,
      "metadata": {
        "colab": {
          "base_uri": "https://localhost:8080/"
        },
        "id": "aRZeSILCUBT0",
        "outputId": "f0db1246-e1f8-4d20-daa1-031bc3af41ca"
      },
      "outputs": [
        {
          "output_type": "stream",
          "name": "stdout",
          "text": [
            "Model: \"model_2\"\n",
            "__________________________________________________________________________________________________\n",
            " Layer (type)                   Output Shape         Param #     Connected to                     \n",
            "==================================================================================================\n",
            " input_3 (InputLayer)           [(None, 25, 3)]      0           []                               \n",
            "                                                                                                  \n",
            " lstm_2 (LSTM)                  (None, 128)          67584       ['input_3[0][0]']                \n",
            "                                                                                                  \n",
            " duration (Dense)               (None, 1)            129         ['lstm_2[0][0]']                 \n",
            "                                                                                                  \n",
            " pitch_probs (Dense)            (None, 128)          16512       ['lstm_2[0][0]']                 \n",
            "                                                                                                  \n",
            " step (Dense)                   (None, 1)            129         ['lstm_2[0][0]']                 \n",
            "                                                                                                  \n",
            "==================================================================================================\n",
            "Total params: 84,354\n",
            "Trainable params: 84,354\n",
            "Non-trainable params: 0\n",
            "__________________________________________________________________________________________________\n"
          ]
        }
      ],
      "source": [
        "# create a LSTM model using input_seqs and output_seqs\n",
        "\n",
        "input_shape = (25, 3)\n",
        "learning_rate = 0.005\n",
        "\n",
        "inputs = tf.keras.Input(input_shape)\n",
        "x = tf.keras.layers.LSTM(128)(inputs)\n",
        "\n",
        "# 3 elements of the note output\n",
        "pitch_probs = tf.keras.layers.Dense(128, activation=\"softmax\", name='pitch_probs')(x) # returns softmax \"prob\" for each pitch number\n",
        "# pitch = Lambda(lambda x: tf.argmax(x, axis=-1), output_shape=(1,), name='pitch')(pitch_probs) # returns integer for most likely\n",
        "step = tf.keras.layers.Dense(1, activation=\"linear\",name='step')(x)\n",
        "duration = tf.keras.layers.Dense(1, activation=\"linear\",name='duration')(x)\n",
        "\n",
        "# combining three elements \n",
        "# outputs = {'pitch': pitch, 'step': step, 'duration': duration}\n",
        "outputs = {'pitch': pitch_probs, 'step': step, 'duration': duration}\n",
        "\n",
        "\n",
        "model = tf.keras.Model(inputs, outputs)\n",
        "\n",
        "# def custom_sparse_categorical_crossentropy(y_true, y_pred, epsilon=1e-7):\n",
        "#     y_true = K.cast(y_true, 'int64')\n",
        "#     y_pred = K.clip(K.cast(y_pred, 'float64'), epsilon, 1 - epsilon)\n",
        "#     return K.sparse_categorical_crossentropy(y_true, y_pred)\n",
        "\n",
        "\n",
        "# loss = {'pitch': custom_sparse_categorical_crossentropy, 'step': \"mse\", 'duration': \"mse\"}\n",
        "loss = {'pitch': \"sparse_categorical_crossentropy\", 'step': \"mse\", 'duration': \"mse\"}\n",
        "\n",
        "\n",
        "optimizer = tf.keras.optimizers.Adam(learning_rate=learning_rate)\n",
        "\n",
        "model.compile(\n",
        "    loss=loss,\n",
        "    loss_weights={\n",
        "        'pitch': 0.05,\n",
        "        'step': 1.0,\n",
        "        'duration':1.0,\n",
        "    },\n",
        "    optimizer=optimizer,\n",
        ")\n",
        "model.summary()"
      ]
    },
    {
      "cell_type": "markdown",
      "metadata": {
        "id": "NCiWfBFXDy57"
      },
      "source": [
        "# Training the model\n"
      ]
    },
    {
      "cell_type": "code",
      "execution_count": null,
      "metadata": {
        "id": "tQHqqCkILGXN",
        "colab": {
          "base_uri": "https://localhost:8080/"
        },
        "outputId": "995c4c4f-700b-4032-855b-5e0c9a4a2119"
      },
      "outputs": [
        {
          "output_type": "stream",
          "name": "stdout",
          "text": [
            "Epoch 1/100\n",
            "11512/11512 [==============================] - 73s 6ms/step - loss: 0.2828 - duration_loss: 0.0698 - pitch_probs_loss: 3.8578 - step_loss: 0.0201\n",
            "Epoch 2/100\n",
            "11512/11512 [==============================] - 69s 6ms/step - loss: 0.2763 - duration_loss: 0.0676 - pitch_probs_loss: 3.7853 - step_loss: 0.0194\n",
            "Epoch 3/100\n",
            "11512/11512 [==============================] - 68s 6ms/step - loss: 0.2752 - duration_loss: 0.0675 - pitch_probs_loss: 3.7659 - step_loss: 0.0194\n",
            "Epoch 4/100\n",
            "11512/11512 [==============================] - 69s 6ms/step - loss: 0.2743 - duration_loss: 0.0672 - pitch_probs_loss: 3.7549 - step_loss: 0.0194\n",
            "Epoch 5/100\n",
            "11512/11512 [==============================] - 70s 6ms/step - loss: 0.2763 - duration_loss: 0.0674 - pitch_probs_loss: 3.7877 - step_loss: 0.0195\n",
            "Epoch 6/100\n",
            "11512/11512 [==============================] - 69s 6ms/step - loss: 0.2760 - duration_loss: 0.0672 - pitch_probs_loss: 3.7868 - step_loss: 0.0194\n",
            "Epoch 7/100\n",
            "11512/11512 [==============================] - 71s 6ms/step - loss: 0.2747 - duration_loss: 0.0674 - pitch_probs_loss: 3.7580 - step_loss: 0.0195\n",
            "Epoch 8/100\n",
            "11512/11512 [==============================] - 70s 6ms/step - loss: 0.2744 - duration_loss: 0.0672 - pitch_probs_loss: 3.7553 - step_loss: 0.0194\n",
            "Epoch 9/100\n",
            "11512/11512 [==============================] - 71s 6ms/step - loss: 0.2741 - duration_loss: 0.0671 - pitch_probs_loss: 3.7512 - step_loss: 0.0194\n",
            "Epoch 10/100\n",
            "11512/11512 [==============================] - 73s 6ms/step - loss: 0.2754 - duration_loss: 0.0673 - pitch_probs_loss: 3.7730 - step_loss: 0.0195\n",
            "Epoch 11/100\n",
            "11512/11512 [==============================] - 72s 6ms/step - loss: 0.2746 - duration_loss: 0.0672 - pitch_probs_loss: 3.7593 - step_loss: 0.0194\n",
            "Epoch 12/100\n",
            "11512/11512 [==============================] - 72s 6ms/step - loss: 0.2742 - duration_loss: 0.0670 - pitch_probs_loss: 3.7550 - step_loss: 0.0194\n",
            "Epoch 13/100\n",
            "11512/11512 [==============================] - 70s 6ms/step - loss: 0.2739 - duration_loss: 0.0670 - pitch_probs_loss: 3.7504 - step_loss: 0.0194\n",
            "Epoch 14/100\n",
            "11512/11512 [==============================] - 72s 6ms/step - loss: 0.2738 - duration_loss: 0.0669 - pitch_probs_loss: 3.7495 - step_loss: 0.0194\n",
            "Epoch 15/100\n",
            "11512/11512 [==============================] - 69s 6ms/step - loss: 0.2737 - duration_loss: 0.0670 - pitch_probs_loss: 3.7452 - step_loss: 0.0194\n",
            "Epoch 16/100\n",
            "11512/11512 [==============================] - 73s 6ms/step - loss: 0.2737 - duration_loss: 0.0672 - pitch_probs_loss: 3.7439 - step_loss: 0.0194\n",
            "Epoch 17/100\n",
            "11512/11512 [==============================] - 70s 6ms/step - loss: 0.2738 - duration_loss: 0.0672 - pitch_probs_loss: 3.7442 - step_loss: 0.0194\n",
            "Epoch 18/100\n",
            "11512/11512 [==============================] - 69s 6ms/step - loss: 0.2734 - duration_loss: 0.0668 - pitch_probs_loss: 3.7451 - step_loss: 0.0194\n",
            "Epoch 19/100\n",
            "11512/11512 [==============================] - 70s 6ms/step - loss: 0.2740 - duration_loss: 0.0673 - pitch_probs_loss: 3.7453 - step_loss: 0.0195\n",
            "Epoch 20/100\n",
            "11512/11512 [==============================] - 69s 6ms/step - loss: 0.2731 - duration_loss: 0.0665 - pitch_probs_loss: 3.7445 - step_loss: 0.0194\n",
            "Epoch 21/100\n",
            "11512/11512 [==============================] - 69s 6ms/step - loss: 0.2733 - duration_loss: 0.0667 - pitch_probs_loss: 3.7438 - step_loss: 0.0194\n",
            "Epoch 22/100\n",
            "11512/11512 [==============================] - 71s 6ms/step - loss: 0.2732 - duration_loss: 0.0667 - pitch_probs_loss: 3.7438 - step_loss: 0.0194\n",
            "Epoch 23/100\n",
            "11512/11512 [==============================] - 69s 6ms/step - loss: 0.2732 - duration_loss: 0.0667 - pitch_probs_loss: 3.7429 - step_loss: 0.0193\n",
            "Epoch 24/100\n",
            "11512/11512 [==============================] - 69s 6ms/step - loss: 0.2732 - duration_loss: 0.0666 - pitch_probs_loss: 3.7439 - step_loss: 0.0194\n",
            "Epoch 25/100\n",
            "11512/11512 [==============================] - 70s 6ms/step - loss: 0.2730 - duration_loss: 0.0665 - pitch_probs_loss: 3.7426 - step_loss: 0.0194\n",
            "Epoch 26/100\n",
            "11512/11512 [==============================] - 68s 6ms/step - loss: 0.2732 - duration_loss: 0.0669 - pitch_probs_loss: 3.7400 - step_loss: 0.0193\n",
            "Epoch 27/100\n",
            "11512/11512 [==============================] - 69s 6ms/step - loss: 0.2730 - duration_loss: 0.0667 - pitch_probs_loss: 3.7403 - step_loss: 0.0193\n",
            "Epoch 28/100\n",
            "11512/11512 [==============================] - 70s 6ms/step - loss: 0.2731 - duration_loss: 0.0668 - pitch_probs_loss: 3.7386 - step_loss: 0.0194\n",
            "Epoch 29/100\n",
            "11512/11512 [==============================] - 69s 6ms/step - loss: 0.2730 - duration_loss: 0.0667 - pitch_probs_loss: 3.7399 - step_loss: 0.0193\n",
            "Epoch 30/100\n",
            "11505/11512 [============================>.] - ETA: 0s - loss: 0.2736 - duration_loss: 0.0666 - pitch_probs_loss: 3.7558 - step_loss: 0.0193Restoring model weights from the end of the best epoch: 25.\n",
            "11512/11512 [==============================] - 69s 6ms/step - loss: 0.2736 - duration_loss: 0.0666 - pitch_probs_loss: 3.7559 - step_loss: 0.0193\n",
            "Epoch 30: early stopping\n"
          ]
        }
      ],
      "source": [
        "callbacks = [\n",
        "    tf.keras.callbacks.EarlyStopping(\n",
        "        monitor='loss',\n",
        "        patience=5,\n",
        "        verbose=1,\n",
        "        restore_best_weights=True),\n",
        "]\n",
        "\n",
        "epochs = 100\n",
        "\n",
        "# create labels for each output\n",
        "pitch_labels = y_train[:, 0].astype(int)\n",
        "step_labels = y_train[:, 1].reshape(-1, 1)\n",
        "duration_labels = y_train[:, 2].reshape(-1, 1)\n",
        "\n",
        "# batch size\n",
        "batch_size = 64\n",
        "\n",
        "# train the model\n",
        "history = model.fit(\n",
        "    x=x_train,\n",
        "    y={\"pitch\": pitch_labels, \"step\": step_labels, \"duration\": duration_labels}, \n",
        "    batch_size=batch_size,\n",
        "    epochs=epochs,\n",
        "    callbacks=callbacks,\n",
        ")\n",
        "\n",
        "# save model after running\n",
        "model.save('model.h5')\n"
      ]
    },
    {
      "cell_type": "markdown",
      "metadata": {
        "id": "fmKnzOAJDr-_"
      },
      "source": [
        "Analyzing its accuracy over time"
      ]
    },
    {
      "cell_type": "code",
      "execution_count": null,
      "metadata": {
        "id": "61As-ASgi50i"
      },
      "outputs": [],
      "source": [
        "# plt.plot(history.epoch, history.history['loss'], label='total loss')\n",
        "# plt.show()\n",
        "\n",
        "from keras.utils import load"
      ]
    },
    {
      "cell_type": "markdown",
      "metadata": {
        "id": "m3ltaItQ3m2F"
      },
      "source": [
        "# Generate New Music!"
      ]
    },
    {
      "cell_type": "code",
      "execution_count": null,
      "metadata": {
        "id": "M5ZNjvW6__4n"
      },
      "outputs": [],
      "source": [
        "def generate_music(model,input_seq,sequence_length):\n",
        "    predicted_sequence = None\n",
        "\n",
        "    for i in range(sequence_length):\n",
        "        prediction = model.predict(input_seq)\n",
        "        if predicted_sequence is None:\n",
        "            predicted_sequence = prediction\n",
        "        else:\n",
        "            predicted_sequence = np.concatenate((predicted_sequence, prediction), axis=0)\n",
        "\n",
        "        input_seq[:,:64,:] = input_seq[:,1:,:]\n",
        "        input_seq[:,-1,:] = prediction\n",
        "    df = pd.DataFrame(predicted_sequence, columns=['pitch','step','duration'])\n",
        "    return df"
      ]
    },
    {
      "cell_type": "code",
      "execution_count": null,
      "metadata": {
        "colab": {
          "base_uri": "https://localhost:8080/"
        },
        "id": "wL31KKh2UBT1",
        "outputId": "d86243b9-59e9-4332-dad9-2800cf88ec70"
      },
      "outputs": [
        {
          "output_type": "stream",
          "name": "stdout",
          "text": [
            "(1, 25, 3)\n",
            "1/1 [==============================] - 0s 471ms/step\n"
          ]
        },
        {
          "output_type": "execute_result",
          "data": {
            "text/plain": [
              "{'pitch': array([[9.8492084e-25, 1.0703131e-24, 8.8601849e-25, 5.7303063e-25,\n",
              "         6.3722399e-25, 1.0484869e-24, 7.1468693e-25, 6.2980017e-25,\n",
              "         8.9362528e-25, 9.6096077e-25, 8.2945302e-25, 9.9393407e-25,\n",
              "         5.6626388e-25, 8.3539433e-25, 8.2689401e-25, 8.6210980e-25,\n",
              "         8.4428124e-25, 7.5477053e-25, 6.6844474e-25, 7.8167596e-25,\n",
              "         7.7520839e-25, 2.3125322e-08, 6.4537649e-06, 1.8357436e-07,\n",
              "         2.7070739e-05, 3.9106826e-06, 9.3229464e-06, 2.0549953e-05,\n",
              "         2.6974062e-04, 8.5972148e-05, 5.8196754e-05, 6.9984912e-05,\n",
              "         3.1826191e-04, 3.0620262e-04, 1.4923466e-04, 1.4218276e-04,\n",
              "         1.8302983e-04, 3.7419822e-04, 2.0849031e-04, 3.2212655e-04,\n",
              "         3.6141748e-04, 4.2865562e-04, 4.2728055e-04, 4.9248920e-04,\n",
              "         1.7922649e-03, 1.3322799e-03, 7.1068952e-04, 1.6104507e-03,\n",
              "         2.5571883e-03, 2.2598668e-03, 1.7025085e-03, 2.1855736e-03,\n",
              "         3.0432476e-03, 4.4274684e-03, 4.5669703e-03, 8.4518939e-03,\n",
              "         9.8910509e-03, 7.1994420e-03, 1.4604078e-02, 1.3894382e-02,\n",
              "         2.0414678e-02, 1.5706291e-02, 1.3416079e-02, 3.3922147e-02,\n",
              "         2.1622986e-02, 2.6467556e-02, 1.5842035e-02, 2.0775849e-02,\n",
              "         3.8498517e-02, 2.2738736e-02, 2.2301227e-02, 3.2514039e-02,\n",
              "         2.6891448e-02, 2.2671351e-02, 2.7979046e-02, 4.3102272e-02,\n",
              "         3.1062564e-02, 4.0232211e-02, 3.8534496e-02, 4.9743824e-02,\n",
              "         3.7472516e-02, 3.2244157e-02, 3.4355920e-02, 3.4959439e-02,\n",
              "         2.5529351e-02, 3.4706123e-02, 1.7984707e-02, 3.5567045e-02,\n",
              "         1.6002126e-02, 1.5739454e-02, 8.4287319e-03, 1.0675559e-02,\n",
              "         1.4367727e-02, 2.9459833e-03, 8.1469882e-03, 2.4813286e-03,\n",
              "         4.2008711e-03, 2.4654255e-03, 6.7420403e-04, 9.6721044e-03,\n",
              "         7.7806553e-04, 1.1275437e-03, 1.5844112e-04, 8.6951812e-05,\n",
              "         1.9587214e-04, 9.0008813e-05, 9.0549147e-06, 2.4318551e-06,\n",
              "         1.6649217e-07, 7.4183686e-25, 6.6625540e-25, 8.2304526e-25,\n",
              "         9.4891792e-25, 6.8593773e-25, 7.7794859e-25, 7.5517087e-25,\n",
              "         9.5477827e-25, 9.9653840e-25, 6.0624611e-25, 8.3197856e-25,\n",
              "         9.3166524e-25, 9.8248928e-25, 8.6839761e-25, 1.0882801e-24,\n",
              "         6.0461559e-25, 9.1025684e-25, 8.6519681e-25, 7.0999128e-25]],\n",
              "       dtype=float32),\n",
              " 'step': array([[0.10111872]], dtype=float32),\n",
              " 'duration': array([[0.1093576]], dtype=float32)}"
            ]
          },
          "metadata": {},
          "execution_count": 32
        }
      ],
      "source": [
        "sample_input = x_test[0]\n",
        "sample_input = sample_input.reshape(1, *sample_input.shape)  # Reshape the input to have a batch dimension\n",
        "\n",
        "\n",
        "print(sample_input.shape)\n",
        "\n",
        "prediction = model.predict(sample_input)\n",
        "prediction"
      ]
    },
    {
      "cell_type": "code",
      "source": [],
      "metadata": {
        "id": "nMQtUcfxe5bb"
      },
      "execution_count": null,
      "outputs": []
    }
  ],
  "metadata": {
    "accelerator": "GPU",
    "colab": {
      "gpuType": "T4",
      "provenance": []
    },
    "gpuClass": "standard",
    "kernelspec": {
      "display_name": "venv",
      "language": "python",
      "name": "python3"
    },
    "language_info": {
      "codemirror_mode": {
        "name": "ipython",
        "version": 3
      },
      "file_extension": ".py",
      "mimetype": "text/x-python",
      "name": "python",
      "nbconvert_exporter": "python",
      "pygments_lexer": "ipython3",
      "version": "3.10.11"
    },
    "orig_nbformat": 4
  },
  "nbformat": 4,
  "nbformat_minor": 0
}